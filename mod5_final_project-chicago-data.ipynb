{
 "cells": [
  {
   "cell_type": "markdown",
   "metadata": {},
   "source": [
    "<center>\n",
    "    <img src=\"https://cf-courses-data.s3.us.cloud-object-storage.appdomain.cloud/IBMDeveloperSkillsNetwork-DB0201EN-SkillsNetwork/labs/FinalModule_Coursera_V5/images/SN_web_lightmode.png\" width=\"300\" alt=\"cognitiveclass.ai logo\">\n",
    "</center>\n",
    "\n",
    "<h1 align=center><font size = 5>Assignment: Notebook for Graded Assessment</font></h1>\n"
   ]
  },
  {
   "cell_type": "markdown",
   "metadata": {},
   "source": [
    "# Introduction\n",
    "\n",
    "Using this Python notebook you will:\n",
    "\n",
    "1.  Understand three Chicago datasets\n",
    "2.  Load the three datasets into three tables in a SQLIte database\n",
    "3.  Execute SQL queries to answer assignment questions\n"
   ]
  },
  {
   "cell_type": "markdown",
   "metadata": {},
   "source": [
    "## Understand the datasets\n",
    "\n",
    "To complete the assignment problems in this notebook you will be using three datasets that are available on the city of Chicago's Data Portal:\n",
    "\n",
    "1.  <a href=\"https://data.cityofchicago.org/Health-Human-Services/Census-Data-Selected-socioeconomic-indicators-in-C/kn9c-c2s2?utm_medium=Exinfluencer&utm_source=Exinfluencer&utm_content=000026UJ&utm_term=10006555&utm_id=NA-SkillsNetwork-Channel-SkillsNetworkCoursesIBMDeveloperSkillsNetworkDB0201ENSkillsNetwork20127838-2021-01-01\">Socioeconomic Indicators in Chicago</a>\n",
    "2.  <a href=\"https://data.cityofchicago.org/Education/Chicago-Public-Schools-Progress-Report-Cards-2011-/9xs2-f89t?utm_medium=Exinfluencer&utm_source=Exinfluencer&utm_content=000026UJ&utm_term=10006555&utm_id=NA-SkillsNetwork-Channel-SkillsNetworkCoursesIBMDeveloperSkillsNetworkDB0201ENSkillsNetwork20127838-2021-01-01\">Chicago Public Schools</a>\n",
    "3.  <a href=\"https://data.cityofchicago.org/Public-Safety/Crimes-2001-to-present/ijzp-q8t2?utm_medium=Exinfluencer&utm_source=Exinfluencer&utm_content=000026UJ&utm_term=10006555&utm_id=NA-SkillsNetwork-Channel-SkillsNetworkCoursesIBMDeveloperSkillsNetworkDB0201ENSkillsNetwork20127838-2021-01-01\">Chicago Crime Data</a>\n",
    "\n",
    "### 1. Socioeconomic Indicators in Chicago\n",
    "\n",
    "This dataset contains a selection of six socioeconomic indicators of public health significance and a “hardship index,” for each Chicago community area, for the years 2008 – 2012.\n",
    "\n",
    "A detailed description of this dataset and the original dataset can be obtained from the Chicago Data Portal at:\n",
    "\n",
    "[https://data.cityofchicago.org/Health-Human-Services/Census-Data-Selected-socioeconomic-indicators-in-C/kn9c-c2s2](https://data.cityofchicago.org/Health-Human-Services/Census-Data-Selected-socioeconomic-indicators-in-C/kn9c-c2s2?utm_medium=Exinfluencer&utm_source=Exinfluencer&utm_content=000026UJ&utm_term=10006555&utm_id=NA-SkillsNetwork-Channel-SkillsNetworkCoursesIBMDeveloperSkillsNetworkDB0201ENSkillsNetwork20127838-2021-01-01&cm_mmc=Email_Newsletter-\\_-Developer_Ed%2BTech-\\_-WW_WW-\\_-SkillsNetwork-Courses-IBMDeveloperSkillsNetwork-DB0201EN-SkillsNetwork-20127838&cm_mmca1=000026UJ&cm_mmca2=10006555&cm_mmca3=M12345678&cvosrc=email.Newsletter.M12345678&cvo_campaign=000026UJ)\n",
    "\n",
    "### 2. Chicago Public Schools\n",
    "\n",
    "This dataset shows all school level performance data used to create CPS School Report Cards for the 2011-2012 school year. This dataset is provided by the city of Chicago's Data Portal.\n",
    "\n",
    "A detailed description of this dataset and the original dataset can be obtained from the Chicago Data Portal at:\n",
    "\n",
    "[https://data.cityofchicago.org/Education/Chicago-Public-Schools-Progress-Report-Cards-2011-/9xs2-f89t](https://data.cityofchicago.org/Education/Chicago-Public-Schools-Progress-Report-Cards-2011-/9xs2-f89t?utm_medium=Exinfluencer&utm_source=Exinfluencer&utm_content=000026UJ&utm_term=10006555&utm_id=NA-SkillsNetwork-Channel-SkillsNetworkCoursesIBMDeveloperSkillsNetworkDB0201ENSkillsNetwork20127838-2021-01-01&cm_mmc=Email_Newsletter-\\_-Developer_Ed%2BTech-\\_-WW_WW-\\_-SkillsNetwork-Courses-IBMDeveloperSkillsNetwork-DB0201EN-SkillsNetwork-20127838&cm_mmca1=000026UJ&cm_mmca2=10006555&cm_mmca3=M12345678&cvosrc=email.Newsletter.M12345678&cvo_campaign=000026UJ)\n",
    "\n",
    "### 3. Chicago Crime Data\n",
    "\n",
    "This dataset reflects reported incidents of crime (with the exception of murders where data exists for each victim) that occurred in the City of Chicago from 2001 to present, minus the most recent seven days.\n",
    "\n",
    "A detailed description of this dataset and the original dataset can be obtained from the Chicago Data Portal at:\n",
    "\n",
    "[https://data.cityofchicago.org/Public-Safety/Crimes-2001-to-present/ijzp-q8t2](https://data.cityofchicago.org/Public-Safety/Crimes-2001-to-present/ijzp-q8t2?utm_medium=Exinfluencer&utm_source=Exinfluencer&utm_content=000026UJ&utm_term=10006555&utm_id=NA-SkillsNetwork-Channel-SkillsNetworkCoursesIBMDeveloperSkillsNetworkDB0201ENSkillsNetwork20127838-2021-01-01&cm_mmc=Email_Newsletter-\\_-Developer_Ed%2BTech-\\_-WW_WW-\\_-SkillsNetwork-Courses-IBMDeveloperSkillsNetwork-DB0201EN-SkillsNetwork-20127838&cm_mmca1=000026UJ&cm_mmca2=10006555&cm_mmca3=M12345678&cvosrc=email.Newsletter.M12345678&cvo_campaign=000026UJ)\n"
   ]
  },
  {
   "cell_type": "markdown",
   "metadata": {},
   "source": [
    "### Download the datasets\n",
    "\n",
    "This assignment requires you to have these three tables populated with a subset of the whole datasets.\n",
    "\n",
    "In many cases the dataset to be analyzed is available as a .CSV (comma separated values) file, perhaps on the internet. \n",
    "\n",
    "Use the links below to read the data files using the Pandas library. \n",
    "\n",
    "* Chicago Census Data\n",
    "\n",
    "https://cf-courses-data.s3.us.cloud-object-storage.appdomain.cloud/IBMDeveloperSkillsNetwork-DB0201EN-SkillsNetwork/labs/FinalModule_Coursera_V5/data/ChicagoCensusData.csv?utm_medium=Exinfluencer&utm_source=Exinfluencer&utm_content=000026UJ&utm_term=10006555&utm_id=NA-SkillsNetwork-Channel-SkillsNetworkCoursesIBMDeveloperSkillsNetworkDB0201ENSkillsNetwork20127838-2021-01-01\n",
    "\n",
    "* Chicago Public Schools\n",
    "\n",
    "https://cf-courses-data.s3.us.cloud-object-storage.appdomain.cloud/IBMDeveloperSkillsNetwork-DB0201EN-SkillsNetwork/labs/FinalModule_Coursera_V5/data/ChicagoPublicSchools.csv?utm_medium=Exinfluencer&utm_source=Exinfluencer&utm_content=000026UJ&utm_term=10006555&utm_id=NA-SkillsNetwork-Channel-SkillsNetworkCoursesIBMDeveloperSkillsNetworkDB0201ENSkillsNetwork20127838-2021-01-01\n",
    "\n",
    "* Chicago Crime Data\n",
    "\n",
    "https://cf-courses-data.s3.us.cloud-object-storage.appdomain.cloud/IBMDeveloperSkillsNetwork-DB0201EN-SkillsNetwork/labs/FinalModule_Coursera_V5/data/ChicagoCrimeData.csv?utm_medium=Exinfluencer&utm_source=Exinfluencer&utm_content=000026UJ&utm_term=10006555&utm_id=NA-SkillsNetwork-Channel-SkillsNetworkCoursesIBMDeveloperSkillsNetworkDB0201ENSkillsNetwork20127838-2021-01-01\n",
    "\n",
    "**NOTE:** Ensure you use the datasets available on the links above instead of directly from the Chicago Data Portal. The versions linked here are subsets of the original datasets and have some of the column names modified to be more database friendly which will make it easier to complete this assignment.\n"
   ]
  },
  {
   "cell_type": "markdown",
   "metadata": {},
   "source": [
    "### Store the datasets in database tables\n",
    "\n",
    "To analyze the data using SQL, it first needs to be loaded into SQLite DB.\n",
    "We will create three tables in as under:\n",
    "\n",
    "1.  **CENSUS_DATA**\n",
    "2.  **CHICAGO_PUBLIC_SCHOOLS**\n",
    "3.  **CHICAGO_CRIME_DATA**\n"
   ]
  },
  {
   "cell_type": "markdown",
   "metadata": {},
   "source": [
    "Load the `pandas` and `sqlite3` libraries and establish a connection to `FinalDB.db`\n"
   ]
  },
  {
   "cell_type": "code",
   "execution_count": 1,
   "metadata": {
    "collapsed": true,
    "jupyter": {
     "outputs_hidden": true
    },
    "tags": []
   },
   "outputs": [
    {
     "name": "stdout",
     "output_type": "stream",
     "text": [
      "Requirement already satisfied: ipython-sql in /home/jupyterlab/conda/envs/python/lib/python3.7/site-packages (0.3.9)\n",
      "Requirement already satisfied: prettytable in /home/jupyterlab/conda/envs/python/lib/python3.7/site-packages (from ipython-sql) (3.7.0)\n",
      "Requirement already satisfied: ipython>=1.0 in /home/jupyterlab/conda/envs/python/lib/python3.7/site-packages (from ipython-sql) (7.33.0)\n",
      "Requirement already satisfied: sqlalchemy>=0.6.7 in /home/jupyterlab/conda/envs/python/lib/python3.7/site-packages (from ipython-sql) (1.3.24)\n",
      "Requirement already satisfied: sqlparse in /home/jupyterlab/conda/envs/python/lib/python3.7/site-packages (from ipython-sql) (0.4.4)\n",
      "Requirement already satisfied: six in /home/jupyterlab/conda/envs/python/lib/python3.7/site-packages (from ipython-sql) (1.16.0)\n",
      "Requirement already satisfied: ipython-genutils>=0.1.0 in /home/jupyterlab/conda/envs/python/lib/python3.7/site-packages (from ipython-sql) (0.2.0)\n",
      "Requirement already satisfied: setuptools>=18.5 in /home/jupyterlab/conda/envs/python/lib/python3.7/site-packages (from ipython>=1.0->ipython-sql) (67.7.2)\n",
      "Requirement already satisfied: jedi>=0.16 in /home/jupyterlab/conda/envs/python/lib/python3.7/site-packages (from ipython>=1.0->ipython-sql) (0.18.2)\n",
      "Requirement already satisfied: decorator in /home/jupyterlab/conda/envs/python/lib/python3.7/site-packages (from ipython>=1.0->ipython-sql) (5.1.1)\n",
      "Requirement already satisfied: pickleshare in /home/jupyterlab/conda/envs/python/lib/python3.7/site-packages (from ipython>=1.0->ipython-sql) (0.7.5)\n",
      "Requirement already satisfied: traitlets>=4.2 in /home/jupyterlab/conda/envs/python/lib/python3.7/site-packages (from ipython>=1.0->ipython-sql) (5.9.0)\n",
      "Requirement already satisfied: prompt-toolkit!=3.0.0,!=3.0.1,<3.1.0,>=2.0.0 in /home/jupyterlab/conda/envs/python/lib/python3.7/site-packages (from ipython>=1.0->ipython-sql) (3.0.38)\n",
      "Requirement already satisfied: pygments in /home/jupyterlab/conda/envs/python/lib/python3.7/site-packages (from ipython>=1.0->ipython-sql) (2.15.1)\n",
      "Requirement already satisfied: backcall in /home/jupyterlab/conda/envs/python/lib/python3.7/site-packages (from ipython>=1.0->ipython-sql) (0.2.0)\n",
      "Requirement already satisfied: matplotlib-inline in /home/jupyterlab/conda/envs/python/lib/python3.7/site-packages (from ipython>=1.0->ipython-sql) (0.1.6)\n",
      "Requirement already satisfied: pexpect>4.3 in /home/jupyterlab/conda/envs/python/lib/python3.7/site-packages (from ipython>=1.0->ipython-sql) (4.8.0)\n",
      "Requirement already satisfied: importlib-metadata in /home/jupyterlab/conda/envs/python/lib/python3.7/site-packages (from prettytable->ipython-sql) (4.11.4)\n",
      "Requirement already satisfied: wcwidth in /home/jupyterlab/conda/envs/python/lib/python3.7/site-packages (from prettytable->ipython-sql) (0.2.6)\n",
      "Requirement already satisfied: parso<0.9.0,>=0.8.0 in /home/jupyterlab/conda/envs/python/lib/python3.7/site-packages (from jedi>=0.16->ipython>=1.0->ipython-sql) (0.8.3)\n",
      "Requirement already satisfied: ptyprocess>=0.5 in /home/jupyterlab/conda/envs/python/lib/python3.7/site-packages (from pexpect>4.3->ipython>=1.0->ipython-sql) (0.7.0)\n",
      "Requirement already satisfied: zipp>=0.5 in /home/jupyterlab/conda/envs/python/lib/python3.7/site-packages (from importlib-metadata->prettytable->ipython-sql) (3.15.0)\n",
      "Requirement already satisfied: typing-extensions>=3.6.4 in /home/jupyterlab/conda/envs/python/lib/python3.7/site-packages (from importlib-metadata->prettytable->ipython-sql) (4.5.0)\n"
     ]
    }
   ],
   "source": [
    "!pip install --user ipython-sql\n",
    "import pandas as pd\n",
    "import sqlite3\n",
    "\n",
    "conn = sqlite3.connect('FinalDB.db')\n",
    "cur = conn.cursor()"
   ]
  },
  {
   "cell_type": "markdown",
   "metadata": {},
   "source": [
    "Load the SQL magic module\n"
   ]
  },
  {
   "cell_type": "code",
   "execution_count": 2,
   "metadata": {
    "tags": []
   },
   "outputs": [],
   "source": [
    "%load_ext sql"
   ]
  },
  {
   "cell_type": "markdown",
   "metadata": {},
   "source": [
    "Use `Pandas` to load the data available in the links above to dataframes. Use these dataframes to load data on to the database `FinalDB.db` as required tables.\n"
   ]
  },
  {
   "cell_type": "code",
   "execution_count": 3,
   "metadata": {
    "tags": []
   },
   "outputs": [
    {
     "name": "stderr",
     "output_type": "stream",
     "text": [
      "/home/jupyterlab/conda/envs/python/lib/python3.7/site-packages/pandas/core/generic.py:2882: UserWarning: The spaces in these column names will not be changed. In pandas versions < 0.14, spaces were converted to underscores.\n",
      "  method=method,\n"
     ]
    }
   ],
   "source": [
    "url_census = \"https://cf-courses-data.s3.us.cloud-object-storage.appdomain.cloud/IBMDeveloperSkillsNetwork-DB0201EN-SkillsNetwork/labs/FinalModule_Coursera_V5/data/ChicagoCensusData.csv?utm_medium=Exinfluencer&utm_source=Exinfluencer&utm_content=000026UJ&utm_term=10006555&utm_id=NA-SkillsNetwork-Channel-SkillsNetworkCoursesIBMDeveloperSkillsNetworkDB0201ENSkillsNetwork20127838-2021-01-01\"\n",
    "url_school = \"https://cf-courses-data.s3.us.cloud-object-storage.appdomain.cloud/IBMDeveloperSkillsNetwork-DB0201EN-SkillsNetwork/labs/FinalModule_Coursera_V5/data/ChicagoPublicSchools.csv?utm_medium=Exinfluencer&utm_source=Exinfluencer&utm_content=000026UJ&utm_term=10006555&utm_id=NA-SkillsNetwork-Channel-SkillsNetworkCoursesIBMDeveloperSkillsNetworkDB0201ENSkillsNetwork20127838-2021-01-01\"\n",
    "url_crime = \"https://cf-courses-data.s3.us.cloud-object-storage.appdomain.cloud/IBMDeveloperSkillsNetwork-DB0201EN-SkillsNetwork/labs/FinalModule_Coursera_V5/data/ChicagoCrimeData.csv?utm_medium=Exinfluencer&utm_source=Exinfluencer&utm_content=000026UJ&utm_term=10006555&utm_id=NA-SkillsNetwork-Channel-SkillsNetworkCoursesIBMDeveloperSkillsNetworkDB0201ENSkillsNetwork20127838-2021-01-01\"\n",
    "\n",
    "data = pd.read_csv(url_census)\n",
    "data.to_sql('chicago_census_data', conn, if_exists='replace', index=False, method=\"multi\")\n",
    "\n",
    "data = pd.read_csv(url_school)\n",
    "data.to_sql('chicago_public_schools_data', conn, if_exists='replace', index=False, method=\"multi\")\n",
    "\n",
    "data = pd.read_csv(url_crime)\n",
    "data.to_sql('chicago_crime_data', conn, if_exists='replace', index=False, method=\"multi\")\n",
    "\n"
   ]
  },
  {
   "cell_type": "markdown",
   "metadata": {},
   "source": [
    "Establish a connection between SQL magic module and the database `FinalDB.db`\n"
   ]
  },
  {
   "cell_type": "code",
   "execution_count": 6,
   "metadata": {
    "tags": []
   },
   "outputs": [
    {
     "data": {
      "text/plain": [
       "'Connected: @FinalDB.db'"
      ]
     },
     "execution_count": 6,
     "metadata": {},
     "output_type": "execute_result"
    }
   ],
   "source": [
    "%sql sqlite:///FinalDB.db"
   ]
  },
  {
   "cell_type": "markdown",
   "metadata": {},
   "source": [
    "You can now proceed to the the following questions. Please note that a graded assignment will follow this lab and there will be a question on each of the problems stated below. It can be from the answer you received or the code you write for this problem. Therefore, please keep a note of both your codes as well as the response you generate.\n"
   ]
  },
  {
   "cell_type": "code",
   "execution_count": 10,
   "metadata": {
    "tags": []
   },
   "outputs": [],
   "source": [
    "census_df = pd.read_sql(\"SELECT * FROM chicago_census_data\", conn)\n",
    "school_df = pd.read_sql(\"SELECT * FROM chicago_public_schools_data\", conn)\n",
    "crime_df = pd.read_sql(\"SELECT * FROM chicago_crime_data\", conn)"
   ]
  },
  {
   "cell_type": "markdown",
   "metadata": {},
   "source": [
    "## Problems\n",
    "\n",
    "Now write and execute SQL queries to solve assignment problems"
   ]
  },
  {
   "cell_type": "code",
   "execution_count": 7,
   "metadata": {
    "tags": []
   },
   "outputs": [
    {
     "name": "stdout",
     "output_type": "stream",
     "text": [
      "   sqlite:///FianlDB.db\n",
      " * sqlite:///FinalDB.db\n",
      "Done.\n"
     ]
    },
    {
     "data": {
      "text/html": [
       "<table>\n",
       "    <thead>\n",
       "        <tr>\n",
       "            <th>name</th>\n",
       "        </tr>\n",
       "    </thead>\n",
       "    <tbody>\n",
       "        <tr>\n",
       "            <td>chicago_census_data</td>\n",
       "        </tr>\n",
       "        <tr>\n",
       "            <td>chicago_public_schools_data</td>\n",
       "        </tr>\n",
       "        <tr>\n",
       "            <td>chicago_crime_data</td>\n",
       "        </tr>\n",
       "    </tbody>\n",
       "</table>"
      ],
      "text/plain": [
       "[('chicago_census_data',),\n",
       " ('chicago_public_schools_data',),\n",
       " ('chicago_crime_data',)]"
      ]
     },
     "execution_count": 7,
     "metadata": {},
     "output_type": "execute_result"
    }
   ],
   "source": [
    "%sql SELECT name FROM sqlite_master WHERE type='table'"
   ]
  },
  {
   "cell_type": "code",
   "execution_count": 9,
   "metadata": {
    "tags": []
   },
   "outputs": [
    {
     "name": "stdout",
     "output_type": "stream",
     "text": [
      "   sqlite:///FianlDB.db\n",
      " * sqlite:///FinalDB.db\n",
      "Done.\n"
     ]
    },
    {
     "data": {
      "text/html": [
       "<table>\n",
       "    <thead>\n",
       "        <tr>\n",
       "            <th>ID</th>\n",
       "            <th>CASE_NUMBER</th>\n",
       "            <th>DATE</th>\n",
       "            <th>BLOCK</th>\n",
       "            <th>IUCR</th>\n",
       "            <th>PRIMARY_TYPE</th>\n",
       "            <th>DESCRIPTION</th>\n",
       "            <th>LOCATION_DESCRIPTION</th>\n",
       "            <th>ARREST</th>\n",
       "            <th>DOMESTIC</th>\n",
       "            <th>BEAT</th>\n",
       "            <th>DISTRICT</th>\n",
       "            <th>WARD</th>\n",
       "            <th>COMMUNITY_AREA_NUMBER</th>\n",
       "            <th>FBICODE</th>\n",
       "            <th>X_COORDINATE</th>\n",
       "            <th>Y_COORDINATE</th>\n",
       "            <th>YEAR</th>\n",
       "            <th>LATITUDE</th>\n",
       "            <th>LONGITUDE</th>\n",
       "            <th>LOCATION</th>\n",
       "        </tr>\n",
       "    </thead>\n",
       "    <tbody>\n",
       "        <tr>\n",
       "            <td>3512276</td>\n",
       "            <td>HK587712</td>\n",
       "            <td>2004-08-28</td>\n",
       "            <td>047XX S KEDZIE AVE</td>\n",
       "            <td>890</td>\n",
       "            <td>THEFT</td>\n",
       "            <td>FROM BUILDING</td>\n",
       "            <td>SMALL RETAIL STORE</td>\n",
       "            <td>0</td>\n",
       "            <td>0</td>\n",
       "            <td>911</td>\n",
       "            <td>9</td>\n",
       "            <td>14.0</td>\n",
       "            <td>58.0</td>\n",
       "            <td>6</td>\n",
       "            <td>1155838.0</td>\n",
       "            <td>1873050.0</td>\n",
       "            <td>2004</td>\n",
       "            <td>41.8074405</td>\n",
       "            <td>-87.70395585</td>\n",
       "            <td>(41.8074405, -87.703955849)</td>\n",
       "        </tr>\n",
       "        <tr>\n",
       "            <td>3406613</td>\n",
       "            <td>HK456306</td>\n",
       "            <td>2004-06-26</td>\n",
       "            <td>009XX N CENTRAL PARK AVE</td>\n",
       "            <td>820</td>\n",
       "            <td>THEFT</td>\n",
       "            <td>$500 AND UNDER</td>\n",
       "            <td>OTHER</td>\n",
       "            <td>0</td>\n",
       "            <td>0</td>\n",
       "            <td>1112</td>\n",
       "            <td>11</td>\n",
       "            <td>27.0</td>\n",
       "            <td>23.0</td>\n",
       "            <td>6</td>\n",
       "            <td>1152206.0</td>\n",
       "            <td>1906127.0</td>\n",
       "            <td>2004</td>\n",
       "            <td>41.89827996</td>\n",
       "            <td>-87.71640551</td>\n",
       "            <td>(41.898279962, -87.716405505)</td>\n",
       "        </tr>\n",
       "        <tr>\n",
       "            <td>8002131</td>\n",
       "            <td>HT233595</td>\n",
       "            <td>2011-04-04</td>\n",
       "            <td>043XX S WABASH AVE</td>\n",
       "            <td>820</td>\n",
       "            <td>THEFT</td>\n",
       "            <td>$500 AND UNDER</td>\n",
       "            <td>NURSING HOME/RETIREMENT HOME</td>\n",
       "            <td>0</td>\n",
       "            <td>0</td>\n",
       "            <td>221</td>\n",
       "            <td>2</td>\n",
       "            <td>3.0</td>\n",
       "            <td>38.0</td>\n",
       "            <td>6</td>\n",
       "            <td>1177436.0</td>\n",
       "            <td>1876313.0</td>\n",
       "            <td>2011</td>\n",
       "            <td>41.81593313</td>\n",
       "            <td>-87.62464213</td>\n",
       "            <td>(41.815933131, -87.624642127)</td>\n",
       "        </tr>\n",
       "        <tr>\n",
       "            <td>7903289</td>\n",
       "            <td>HT133522</td>\n",
       "            <td>2010-12-30</td>\n",
       "            <td>083XX S KINGSTON AVE</td>\n",
       "            <td>840</td>\n",
       "            <td>THEFT</td>\n",
       "            <td>FINANCIAL ID THEFT: OVER $300</td>\n",
       "            <td>RESIDENCE</td>\n",
       "            <td>0</td>\n",
       "            <td>0</td>\n",
       "            <td>423</td>\n",
       "            <td>4</td>\n",
       "            <td>7.0</td>\n",
       "            <td>46.0</td>\n",
       "            <td>6</td>\n",
       "            <td>1194622.0</td>\n",
       "            <td>1850125.0</td>\n",
       "            <td>2010</td>\n",
       "            <td>41.74366532</td>\n",
       "            <td>-87.56246276</td>\n",
       "            <td>(41.743665322, -87.562462756)</td>\n",
       "        </tr>\n",
       "        <tr>\n",
       "            <td>10402076</td>\n",
       "            <td>HZ138551</td>\n",
       "            <td>2016-02-02</td>\n",
       "            <td>033XX W 66TH ST</td>\n",
       "            <td>820</td>\n",
       "            <td>THEFT</td>\n",
       "            <td>$500 AND UNDER</td>\n",
       "            <td>ALLEY</td>\n",
       "            <td>0</td>\n",
       "            <td>0</td>\n",
       "            <td>831</td>\n",
       "            <td>8</td>\n",
       "            <td>15.0</td>\n",
       "            <td>66.0</td>\n",
       "            <td>6</td>\n",
       "            <td>1155240.0</td>\n",
       "            <td>1860661.0</td>\n",
       "            <td>2016</td>\n",
       "            <td>41.7734553</td>\n",
       "            <td>-87.70648047</td>\n",
       "            <td>(41.773455295, -87.706480471)</td>\n",
       "        </tr>\n",
       "    </tbody>\n",
       "</table>"
      ],
      "text/plain": [
       "[(3512276, 'HK587712', '2004-08-28', '047XX S KEDZIE AVE', '890', 'THEFT', 'FROM BUILDING', 'SMALL RETAIL STORE', 0, 0, 911, 9, 14.0, 58.0, '6', 1155838.0, 1873050.0, 2004, 41.8074405, -87.70395585, '(41.8074405, -87.703955849)'),\n",
       " (3406613, 'HK456306', '2004-06-26', '009XX N CENTRAL PARK AVE', '820', 'THEFT', '$500 AND UNDER', 'OTHER', 0, 0, 1112, 11, 27.0, 23.0, '6', 1152206.0, 1906127.0, 2004, 41.89827996, -87.71640551, '(41.898279962, -87.716405505)'),\n",
       " (8002131, 'HT233595', '2011-04-04', '043XX S WABASH AVE', '820', 'THEFT', '$500 AND UNDER', 'NURSING HOME/RETIREMENT HOME', 0, 0, 221, 2, 3.0, 38.0, '6', 1177436.0, 1876313.0, 2011, 41.81593313, -87.62464213, '(41.815933131, -87.624642127)'),\n",
       " (7903289, 'HT133522', '2010-12-30', '083XX S KINGSTON AVE', '840', 'THEFT', 'FINANCIAL ID THEFT: OVER $300', 'RESIDENCE', 0, 0, 423, 4, 7.0, 46.0, '6', 1194622.0, 1850125.0, 2010, 41.74366532, -87.56246276, '(41.743665322, -87.562462756)'),\n",
       " (10402076, 'HZ138551', '2016-02-02', '033XX W 66TH ST', '820', 'THEFT', '$500 AND UNDER', 'ALLEY', 0, 0, 831, 8, 15.0, 66.0, '6', 1155240.0, 1860661.0, 2016, 41.7734553, -87.70648047, '(41.773455295, -87.706480471)')]"
      ]
     },
     "execution_count": 9,
     "metadata": {},
     "output_type": "execute_result"
    }
   ],
   "source": [
    "%sql SELECT * FROM chicago_crime_data limit 5"
   ]
  },
  {
   "cell_type": "markdown",
   "metadata": {},
   "source": [
    "### Problem 1\n",
    "\n",
    "##### Find the total number of crimes recorded in the CRIME table.\n"
   ]
  },
  {
   "cell_type": "code",
   "execution_count": 10,
   "metadata": {
    "tags": []
   },
   "outputs": [
    {
     "name": "stdout",
     "output_type": "stream",
     "text": [
      "   sqlite:///FianlDB.db\n",
      " * sqlite:///FinalDB.db\n",
      "Done.\n"
     ]
    },
    {
     "data": {
      "text/html": [
       "<table>\n",
       "    <thead>\n",
       "        <tr>\n",
       "            <th>Count(ID)</th>\n",
       "        </tr>\n",
       "    </thead>\n",
       "    <tbody>\n",
       "        <tr>\n",
       "            <td>533</td>\n",
       "        </tr>\n",
       "    </tbody>\n",
       "</table>"
      ],
      "text/plain": [
       "[(533,)]"
      ]
     },
     "execution_count": 10,
     "metadata": {},
     "output_type": "execute_result"
    }
   ],
   "source": [
    "%sql Select Count(ID) from chicago_crime_data"
   ]
  },
  {
   "cell_type": "markdown",
   "metadata": {},
   "source": [
    "### Problem 2\n",
    "\n",
    "##### List community area names and numbers with per capita income less than 11000.\n"
   ]
  },
  {
   "cell_type": "code",
   "execution_count": 11,
   "metadata": {
    "collapsed": true,
    "jupyter": {
     "outputs_hidden": true
    },
    "tags": []
   },
   "outputs": [
    {
     "name": "stdout",
     "output_type": "stream",
     "text": [
      "   sqlite:///FianlDB.db\n",
      " * sqlite:///FinalDB.db\n",
      "Done.\n"
     ]
    },
    {
     "data": {
      "text/html": [
       "<table>\n",
       "    <thead>\n",
       "        <tr>\n",
       "            <th>COMMUNITY_AREA_NUMBER</th>\n",
       "            <th>COMMUNITY_AREA_NAME</th>\n",
       "            <th>PERCENT_OF_HOUSING_CROWDED</th>\n",
       "            <th>PERCENT_HOUSEHOLDS_BELOW_POVERTY</th>\n",
       "            <th>PERCENT_AGED_16__UNEMPLOYED</th>\n",
       "            <th>PERCENT_AGED_25__WITHOUT_HIGH_SCHOOL_DIPLOMA</th>\n",
       "            <th>PERCENT_AGED_UNDER_18_OR_OVER_64</th>\n",
       "            <th>PER_CAPITA_INCOME</th>\n",
       "            <th>HARDSHIP_INDEX</th>\n",
       "        </tr>\n",
       "    </thead>\n",
       "    <tbody>\n",
       "        <tr>\n",
       "            <td>1.0</td>\n",
       "            <td>Rogers Park</td>\n",
       "            <td>7.7</td>\n",
       "            <td>23.6</td>\n",
       "            <td>8.7</td>\n",
       "            <td>18.2</td>\n",
       "            <td>27.5</td>\n",
       "            <td>23939</td>\n",
       "            <td>39.0</td>\n",
       "        </tr>\n",
       "        <tr>\n",
       "            <td>2.0</td>\n",
       "            <td>West Ridge</td>\n",
       "            <td>7.8</td>\n",
       "            <td>17.2</td>\n",
       "            <td>8.8</td>\n",
       "            <td>20.8</td>\n",
       "            <td>38.5</td>\n",
       "            <td>23040</td>\n",
       "            <td>46.0</td>\n",
       "        </tr>\n",
       "        <tr>\n",
       "            <td>3.0</td>\n",
       "            <td>Uptown</td>\n",
       "            <td>3.8</td>\n",
       "            <td>24.0</td>\n",
       "            <td>8.9</td>\n",
       "            <td>11.8</td>\n",
       "            <td>22.2</td>\n",
       "            <td>35787</td>\n",
       "            <td>20.0</td>\n",
       "        </tr>\n",
       "        <tr>\n",
       "            <td>4.0</td>\n",
       "            <td>Lincoln Square</td>\n",
       "            <td>3.4</td>\n",
       "            <td>10.9</td>\n",
       "            <td>8.2</td>\n",
       "            <td>13.4</td>\n",
       "            <td>25.5</td>\n",
       "            <td>37524</td>\n",
       "            <td>17.0</td>\n",
       "        </tr>\n",
       "        <tr>\n",
       "            <td>5.0</td>\n",
       "            <td>North Center</td>\n",
       "            <td>0.3</td>\n",
       "            <td>7.5</td>\n",
       "            <td>5.2</td>\n",
       "            <td>4.5</td>\n",
       "            <td>26.2</td>\n",
       "            <td>57123</td>\n",
       "            <td>6.0</td>\n",
       "        </tr>\n",
       "    </tbody>\n",
       "</table>"
      ],
      "text/plain": [
       "[(1.0, 'Rogers Park', 7.7, 23.6, 8.7, 18.2, 27.5, 23939, 39.0),\n",
       " (2.0, 'West Ridge', 7.8, 17.2, 8.8, 20.8, 38.5, 23040, 46.0),\n",
       " (3.0, 'Uptown', 3.8, 24.0, 8.9, 11.8, 22.2, 35787, 20.0),\n",
       " (4.0, 'Lincoln Square', 3.4, 10.9, 8.2, 13.4, 25.5, 37524, 17.0),\n",
       " (5.0, 'North Center', 0.3, 7.5, 5.2, 4.5, 26.2, 57123, 6.0)]"
      ]
     },
     "execution_count": 11,
     "metadata": {},
     "output_type": "execute_result"
    }
   ],
   "source": [
    "%sql SELECT * FROM chicago_census_data limit 5"
   ]
  },
  {
   "cell_type": "code",
   "execution_count": 12,
   "metadata": {
    "tags": []
   },
   "outputs": [
    {
     "name": "stdout",
     "output_type": "stream",
     "text": [
      "   sqlite:///FianlDB.db\n",
      " * sqlite:///FinalDB.db\n",
      "Done.\n"
     ]
    },
    {
     "data": {
      "text/html": [
       "<table>\n",
       "    <thead>\n",
       "        <tr>\n",
       "            <th>COMMUNITY_AREA_NAME</th>\n",
       "            <th>COMMUNITY_AREA_NUMBER</th>\n",
       "        </tr>\n",
       "    </thead>\n",
       "    <tbody>\n",
       "        <tr>\n",
       "            <td>West Garfield Park</td>\n",
       "            <td>26.0</td>\n",
       "        </tr>\n",
       "        <tr>\n",
       "            <td>South Lawndale</td>\n",
       "            <td>30.0</td>\n",
       "        </tr>\n",
       "        <tr>\n",
       "            <td>Fuller Park</td>\n",
       "            <td>37.0</td>\n",
       "        </tr>\n",
       "        <tr>\n",
       "            <td>Riverdale</td>\n",
       "            <td>54.0</td>\n",
       "        </tr>\n",
       "    </tbody>\n",
       "</table>"
      ],
      "text/plain": [
       "[('West Garfield Park', 26.0),\n",
       " ('South Lawndale', 30.0),\n",
       " ('Fuller Park', 37.0),\n",
       " ('Riverdale', 54.0)]"
      ]
     },
     "execution_count": 12,
     "metadata": {},
     "output_type": "execute_result"
    }
   ],
   "source": [
    "%sql select COMMUNITY_AREA_NAME, COMMUNITY_AREA_NUMBER from chicago_census_data where PER_CAPITA_INCOME<11000"
   ]
  },
  {
   "cell_type": "markdown",
   "metadata": {},
   "source": [
    "### Problem 3\n",
    "\n",
    "##### List all case numbers for crimes involving minors?(children are not considered minors for the purposes of crime analysis) \n"
   ]
  },
  {
   "cell_type": "code",
   "execution_count": 45,
   "metadata": {
    "collapsed": true,
    "jupyter": {
     "outputs_hidden": true
    },
    "tags": []
   },
   "outputs": [
    {
     "name": "stdout",
     "output_type": "stream",
     "text": [
      "   sqlite:///FianlDB.db\n",
      " * sqlite:///FinalDB.db\n",
      "Done.\n"
     ]
    },
    {
     "data": {
      "text/html": [
       "<table>\n",
       "    <thead>\n",
       "        <tr>\n",
       "            <th>DESCRIPTION</th>\n",
       "        </tr>\n",
       "    </thead>\n",
       "    <tbody>\n",
       "        <tr>\n",
       "            <td>FROM BUILDING</td>\n",
       "        </tr>\n",
       "        <tr>\n",
       "            <td>$500 AND UNDER</td>\n",
       "        </tr>\n",
       "        <tr>\n",
       "            <td>FINANCIAL ID THEFT: OVER $300</td>\n",
       "        </tr>\n",
       "        <tr>\n",
       "            <td>OVER $500</td>\n",
       "        </tr>\n",
       "        <tr>\n",
       "            <td>RETAIL THEFT</td>\n",
       "        </tr>\n",
       "        <tr>\n",
       "            <td>AGG: FINANCIAL ID THEFT</td>\n",
       "        </tr>\n",
       "        <tr>\n",
       "            <td>PURSE-SNATCHING</td>\n",
       "        </tr>\n",
       "        <tr>\n",
       "            <td>POCKET-PICKING</td>\n",
       "        </tr>\n",
       "        <tr>\n",
       "            <td>ATTEMPT THEFT</td>\n",
       "        </tr>\n",
       "        <tr>\n",
       "            <td>SIMPLE</td>\n",
       "        </tr>\n",
       "        <tr>\n",
       "            <td>DOMESTIC BATTERY SIMPLE</td>\n",
       "        </tr>\n",
       "        <tr>\n",
       "            <td>AGG PO HANDS NO/MIN INJURY</td>\n",
       "        </tr>\n",
       "        <tr>\n",
       "            <td>PRO EMP HANDS NO/MIN INJURY</td>\n",
       "        </tr>\n",
       "        <tr>\n",
       "            <td>AGGRAVATED:KNIFE/CUTTING INSTR</td>\n",
       "        </tr>\n",
       "        <tr>\n",
       "            <td>AGGRAVATED: OTHER DANG WEAPON</td>\n",
       "        </tr>\n",
       "        <tr>\n",
       "            <td>AGGRAVATED: HANDGUN</td>\n",
       "        </tr>\n",
       "        <tr>\n",
       "            <td>AGGRAVATED DOMESTIC BATTERY</td>\n",
       "        </tr>\n",
       "        <tr>\n",
       "            <td>AGGRAVATED DOMESTIC BATTERY: OTHER DANG WEAPON</td>\n",
       "        </tr>\n",
       "        <tr>\n",
       "            <td>TO VEHICLE</td>\n",
       "        </tr>\n",
       "        <tr>\n",
       "            <td>TO CITY OF CHICAGO PROPERTY</td>\n",
       "        </tr>\n",
       "        <tr>\n",
       "            <td>TO PROPERTY</td>\n",
       "        </tr>\n",
       "        <tr>\n",
       "            <td>CRIMINAL DEFACEMENT</td>\n",
       "        </tr>\n",
       "        <tr>\n",
       "            <td>POSS: CANNABIS 30GMS OR LESS</td>\n",
       "        </tr>\n",
       "        <tr>\n",
       "            <td>POSS: HEROIN(WHITE)</td>\n",
       "        </tr>\n",
       "        <tr>\n",
       "            <td>MANU/DEL:CANNABIS 10GM OR LESS</td>\n",
       "        </tr>\n",
       "        <tr>\n",
       "            <td>MANU/DELIVER: HEROIN (WHITE)</td>\n",
       "        </tr>\n",
       "        <tr>\n",
       "            <td>POSS: CRACK</td>\n",
       "        </tr>\n",
       "        <tr>\n",
       "            <td>FOUND SUSPECT NARCOTICS</td>\n",
       "        </tr>\n",
       "        <tr>\n",
       "            <td>MANU/DELIVER: METHAMPHETAMINES</td>\n",
       "        </tr>\n",
       "        <tr>\n",
       "            <td>POSS: COCAINE</td>\n",
       "        </tr>\n",
       "        <tr>\n",
       "            <td>ATTEMPT POSSESSION NARCOTICS</td>\n",
       "        </tr>\n",
       "        <tr>\n",
       "            <td>SOLICIT NARCOTICS ON PUBLICWAY</td>\n",
       "        </tr>\n",
       "        <tr>\n",
       "            <td>MANU/DELIVER:CRACK</td>\n",
       "        </tr>\n",
       "        <tr>\n",
       "            <td>TELEPHONE THREAT</td>\n",
       "        </tr>\n",
       "        <tr>\n",
       "            <td>OBSCENE TELEPHONE CALLS</td>\n",
       "        </tr>\n",
       "        <tr>\n",
       "            <td>VIOLATE ORDER OF PROTECTION</td>\n",
       "        </tr>\n",
       "        <tr>\n",
       "            <td>HARASSMENT BY TELEPHONE</td>\n",
       "        </tr>\n",
       "        <tr>\n",
       "            <td>PROBATION VIOLATION</td>\n",
       "        </tr>\n",
       "        <tr>\n",
       "            <td>HARASSMENT BY ELECTRONIC MEANS</td>\n",
       "        </tr>\n",
       "        <tr>\n",
       "            <td>PAROLE VIOLATION</td>\n",
       "        </tr>\n",
       "        <tr>\n",
       "            <td>FALSE/STOLEN/ALTERED TRP</td>\n",
       "        </tr>\n",
       "        <tr>\n",
       "            <td>OTHER VEHICLE OFFENSE</td>\n",
       "        </tr>\n",
       "        <tr>\n",
       "            <td>OTHER CRIME AGAINST PERSON</td>\n",
       "        </tr>\n",
       "        <tr>\n",
       "            <td>SEX OFFENDER: FAIL REG NEW ADD</td>\n",
       "        </tr>\n",
       "        <tr>\n",
       "            <td>AGGRAVATED PO: OTHER DANG WEAP</td>\n",
       "        </tr>\n",
       "        <tr>\n",
       "            <td>UNLAWFUL ENTRY</td>\n",
       "        </tr>\n",
       "        <tr>\n",
       "            <td>FORCIBLE ENTRY</td>\n",
       "        </tr>\n",
       "        <tr>\n",
       "            <td>AUTOMOBILE</td>\n",
       "        </tr>\n",
       "        <tr>\n",
       "            <td>THEFT/RECOVERY: AUTOMOBILE</td>\n",
       "        </tr>\n",
       "        <tr>\n",
       "            <td>ATT: AUTOMOBILE</td>\n",
       "        </tr>\n",
       "        <tr>\n",
       "            <td>TRUCK, BUS, MOTOR HOME</td>\n",
       "        </tr>\n",
       "        <tr>\n",
       "            <td>CREDIT CARD FRAUD</td>\n",
       "        </tr>\n",
       "        <tr>\n",
       "            <td>THEFT OF LABOR/SERVICES</td>\n",
       "        </tr>\n",
       "        <tr>\n",
       "            <td>FORGERY</td>\n",
       "        </tr>\n",
       "        <tr>\n",
       "            <td>THEFT OF LOST/MISLAID PROP</td>\n",
       "        </tr>\n",
       "        <tr>\n",
       "            <td>FRAUD OR CONFIDENCE GAME</td>\n",
       "        </tr>\n",
       "        <tr>\n",
       "            <td>THEFT BY LESSEE,MOTOR VEH</td>\n",
       "        </tr>\n",
       "        <tr>\n",
       "            <td>BOGUS CHECK</td>\n",
       "        </tr>\n",
       "        <tr>\n",
       "            <td>FINANCIAL IDENTITY THEFT OVER $ 300</td>\n",
       "        </tr>\n",
       "        <tr>\n",
       "            <td>ILLEGAL USE CASH CARD</td>\n",
       "        </tr>\n",
       "        <tr>\n",
       "            <td>ARMED: HANDGUN</td>\n",
       "        </tr>\n",
       "        <tr>\n",
       "            <td>STRONGARM - NO WEAPON</td>\n",
       "        </tr>\n",
       "        <tr>\n",
       "            <td>VEHICULAR HIJACKING</td>\n",
       "        </tr>\n",
       "        <tr>\n",
       "            <td>ARMED:KNIFE/CUTTING INSTRUMENT</td>\n",
       "        </tr>\n",
       "        <tr>\n",
       "            <td>AGGRAVATED</td>\n",
       "        </tr>\n",
       "        <tr>\n",
       "            <td>AGGRAVATED VEHICULAR HIJACKING</td>\n",
       "        </tr>\n",
       "        <tr>\n",
       "            <td>TO STATE SUP LAND</td>\n",
       "        </tr>\n",
       "        <tr>\n",
       "            <td>TO RESIDENCE</td>\n",
       "        </tr>\n",
       "        <tr>\n",
       "            <td>TO LAND</td>\n",
       "        </tr>\n",
       "        <tr>\n",
       "            <td>CALL OPERATION</td>\n",
       "        </tr>\n",
       "        <tr>\n",
       "            <td>SOLICIT ON PUBLIC WAY</td>\n",
       "        </tr>\n",
       "        <tr>\n",
       "            <td>SOLICIT FOR BUSINESS</td>\n",
       "        </tr>\n",
       "        <tr>\n",
       "            <td>UNLAWFUL POSS OF HANDGUN</td>\n",
       "        </tr>\n",
       "        <tr>\n",
       "            <td>UNLAWFUL POSS OTHER FIREARM</td>\n",
       "        </tr>\n",
       "        <tr>\n",
       "            <td>RECKLESS CONDUCT</td>\n",
       "        </tr>\n",
       "        <tr>\n",
       "            <td>BOMB THREAT</td>\n",
       "        </tr>\n",
       "        <tr>\n",
       "            <td>AGG SEX ASSLT OF CHILD FAM MBR</td>\n",
       "        </tr>\n",
       "        <tr>\n",
       "            <td>SEX ASSLT OF CHILD BY FAM MBR</td>\n",
       "        </tr>\n",
       "        <tr>\n",
       "            <td>CRIM SEX ABUSE BY FAM MEMBER</td>\n",
       "        </tr>\n",
       "        <tr>\n",
       "            <td>AGG CRIM SEX ABUSE FAM MEMBER</td>\n",
       "        </tr>\n",
       "        <tr>\n",
       "            <td>ATTEMPT NON-AGGRAVATED</td>\n",
       "        </tr>\n",
       "        <tr>\n",
       "            <td>NON-AGGRAVATED</td>\n",
       "        </tr>\n",
       "        <tr>\n",
       "            <td>AGG CRIMINAL SEXUAL ABUSE</td>\n",
       "        </tr>\n",
       "        <tr>\n",
       "            <td>OTHER</td>\n",
       "        </tr>\n",
       "        <tr>\n",
       "            <td>RESIST/OBSTRUCT/DISARM OFFICER</td>\n",
       "        </tr>\n",
       "        <tr>\n",
       "            <td>ESCAPE</td>\n",
       "        </tr>\n",
       "        <tr>\n",
       "            <td>GAME/DICE</td>\n",
       "        </tr>\n",
       "        <tr>\n",
       "            <td>SELL/GIVE/DEL LIQUOR TO MINOR</td>\n",
       "        </tr>\n",
       "        <tr>\n",
       "            <td>ILLEGAL CONSUMPTION BY MINOR</td>\n",
       "        </tr>\n",
       "        <tr>\n",
       "            <td>BY FIRE</td>\n",
       "        </tr>\n",
       "        <tr>\n",
       "            <td>FIRST DEGREE MURDER</td>\n",
       "        </tr>\n",
       "        <tr>\n",
       "            <td>CHILD ABDUCTION/STRANGER</td>\n",
       "        </tr>\n",
       "        <tr>\n",
       "            <td>INTIMIDATION</td>\n",
       "        </tr>\n",
       "        <tr>\n",
       "            <td>CYBERSTALKING</td>\n",
       "        </tr>\n",
       "        <tr>\n",
       "            <td>OBSCENE MATTER</td>\n",
       "        </tr>\n",
       "        <tr>\n",
       "            <td>LICENSED PREMISE</td>\n",
       "        </tr>\n",
       "        <tr>\n",
       "            <td>LOST PASSPORT</td>\n",
       "        </tr>\n",
       "        <tr>\n",
       "            <td>INTOXICATING COMPOUNDS</td>\n",
       "        </tr>\n",
       "        <tr>\n",
       "            <td>INVOLUNTARY SERVITUDE</td>\n",
       "        </tr>\n",
       "        <tr>\n",
       "            <td>FOID - REVOCATION</td>\n",
       "        </tr>\n",
       "        <tr>\n",
       "            <td>AGG RIT MUT: HANDS/FIST/FEET SERIOUS INJURY</td>\n",
       "        </tr>\n",
       "        <tr>\n",
       "            <td>NOTIFICATION OF CIVIL NO CONTACT ORDER</td>\n",
       "        </tr>\n",
       "        <tr>\n",
       "            <td>DOMESTIC VIOLENCE</td>\n",
       "        </tr>\n",
       "    </tbody>\n",
       "</table>"
      ],
      "text/plain": [
       "[('FROM BUILDING',),\n",
       " ('$500 AND UNDER',),\n",
       " ('FINANCIAL ID THEFT: OVER $300',),\n",
       " ('OVER $500',),\n",
       " ('RETAIL THEFT',),\n",
       " ('AGG: FINANCIAL ID THEFT',),\n",
       " ('PURSE-SNATCHING',),\n",
       " ('POCKET-PICKING',),\n",
       " ('ATTEMPT THEFT',),\n",
       " ('SIMPLE',),\n",
       " ('DOMESTIC BATTERY SIMPLE',),\n",
       " ('AGG PO HANDS NO/MIN INJURY',),\n",
       " ('PRO EMP HANDS NO/MIN INJURY',),\n",
       " ('AGGRAVATED:KNIFE/CUTTING INSTR',),\n",
       " ('AGGRAVATED: OTHER DANG WEAPON',),\n",
       " ('AGGRAVATED: HANDGUN',),\n",
       " ('AGGRAVATED DOMESTIC BATTERY',),\n",
       " ('AGGRAVATED DOMESTIC BATTERY: OTHER DANG WEAPON',),\n",
       " ('TO VEHICLE',),\n",
       " ('TO CITY OF CHICAGO PROPERTY',),\n",
       " ('TO PROPERTY',),\n",
       " ('CRIMINAL DEFACEMENT',),\n",
       " ('POSS: CANNABIS 30GMS OR LESS',),\n",
       " ('POSS: HEROIN(WHITE)',),\n",
       " ('MANU/DEL:CANNABIS 10GM OR LESS',),\n",
       " ('MANU/DELIVER: HEROIN (WHITE)',),\n",
       " ('POSS: CRACK',),\n",
       " ('FOUND SUSPECT NARCOTICS',),\n",
       " ('MANU/DELIVER: METHAMPHETAMINES',),\n",
       " ('POSS: COCAINE',),\n",
       " ('ATTEMPT POSSESSION NARCOTICS',),\n",
       " ('SOLICIT NARCOTICS ON PUBLICWAY',),\n",
       " ('MANU/DELIVER:CRACK',),\n",
       " ('TELEPHONE THREAT',),\n",
       " ('OBSCENE TELEPHONE CALLS',),\n",
       " ('VIOLATE ORDER OF PROTECTION',),\n",
       " ('HARASSMENT BY TELEPHONE',),\n",
       " ('PROBATION VIOLATION',),\n",
       " ('HARASSMENT BY ELECTRONIC MEANS',),\n",
       " ('PAROLE VIOLATION',),\n",
       " ('FALSE/STOLEN/ALTERED TRP',),\n",
       " ('OTHER VEHICLE OFFENSE',),\n",
       " ('OTHER CRIME AGAINST PERSON',),\n",
       " ('SEX OFFENDER: FAIL REG NEW ADD',),\n",
       " ('AGGRAVATED PO: OTHER DANG WEAP',),\n",
       " ('UNLAWFUL ENTRY',),\n",
       " ('FORCIBLE ENTRY',),\n",
       " ('AUTOMOBILE',),\n",
       " ('THEFT/RECOVERY: AUTOMOBILE',),\n",
       " ('ATT: AUTOMOBILE',),\n",
       " ('TRUCK, BUS, MOTOR HOME',),\n",
       " ('CREDIT CARD FRAUD',),\n",
       " ('THEFT OF LABOR/SERVICES',),\n",
       " ('FORGERY',),\n",
       " ('THEFT OF LOST/MISLAID PROP',),\n",
       " ('FRAUD OR CONFIDENCE GAME',),\n",
       " ('THEFT BY LESSEE,MOTOR VEH',),\n",
       " ('BOGUS CHECK',),\n",
       " ('FINANCIAL IDENTITY THEFT OVER $ 300',),\n",
       " ('ILLEGAL USE CASH CARD',),\n",
       " ('ARMED: HANDGUN',),\n",
       " ('STRONGARM - NO WEAPON',),\n",
       " ('VEHICULAR HIJACKING',),\n",
       " ('ARMED:KNIFE/CUTTING INSTRUMENT',),\n",
       " ('AGGRAVATED',),\n",
       " ('AGGRAVATED VEHICULAR HIJACKING',),\n",
       " ('TO STATE SUP LAND',),\n",
       " ('TO RESIDENCE',),\n",
       " ('TO LAND',),\n",
       " ('CALL OPERATION',),\n",
       " ('SOLICIT ON PUBLIC WAY',),\n",
       " ('SOLICIT FOR BUSINESS',),\n",
       " ('UNLAWFUL POSS OF HANDGUN',),\n",
       " ('UNLAWFUL POSS OTHER FIREARM',),\n",
       " ('RECKLESS CONDUCT',),\n",
       " ('BOMB THREAT',),\n",
       " ('AGG SEX ASSLT OF CHILD FAM MBR',),\n",
       " ('SEX ASSLT OF CHILD BY FAM MBR',),\n",
       " ('CRIM SEX ABUSE BY FAM MEMBER',),\n",
       " ('AGG CRIM SEX ABUSE FAM MEMBER',),\n",
       " ('ATTEMPT NON-AGGRAVATED',),\n",
       " ('NON-AGGRAVATED',),\n",
       " ('AGG CRIMINAL SEXUAL ABUSE',),\n",
       " ('OTHER',),\n",
       " ('RESIST/OBSTRUCT/DISARM OFFICER',),\n",
       " ('ESCAPE',),\n",
       " ('GAME/DICE',),\n",
       " ('SELL/GIVE/DEL LIQUOR TO MINOR',),\n",
       " ('ILLEGAL CONSUMPTION BY MINOR',),\n",
       " ('BY FIRE',),\n",
       " ('FIRST DEGREE MURDER',),\n",
       " ('CHILD ABDUCTION/STRANGER',),\n",
       " ('INTIMIDATION',),\n",
       " ('CYBERSTALKING',),\n",
       " ('OBSCENE MATTER',),\n",
       " ('LICENSED PREMISE',),\n",
       " ('LOST PASSPORT',),\n",
       " ('INTOXICATING COMPOUNDS',),\n",
       " ('INVOLUNTARY SERVITUDE',),\n",
       " ('FOID - REVOCATION',),\n",
       " ('AGG RIT MUT: HANDS/FIST/FEET SERIOUS INJURY',),\n",
       " ('NOTIFICATION OF CIVIL NO CONTACT ORDER',),\n",
       " ('DOMESTIC VIOLENCE',)]"
      ]
     },
     "execution_count": 45,
     "metadata": {},
     "output_type": "execute_result"
    }
   ],
   "source": [
    "%sql select DISTINCT(description) from chicago_crime_data"
   ]
  },
  {
   "cell_type": "code",
   "execution_count": 46,
   "metadata": {
    "tags": []
   },
   "outputs": [
    {
     "name": "stdout",
     "output_type": "stream",
     "text": [
      "   sqlite:///FianlDB.db\n",
      " * sqlite:///FinalDB.db\n",
      "Done.\n"
     ]
    },
    {
     "data": {
      "text/html": [
       "<table>\n",
       "    <thead>\n",
       "        <tr>\n",
       "            <th>CASE_NUMBER</th>\n",
       "            <th>DESCRIPTION</th>\n",
       "        </tr>\n",
       "    </thead>\n",
       "    <tbody>\n",
       "        <tr>\n",
       "            <td>HL266884</td>\n",
       "            <td>SELL/GIVE/DEL LIQUOR TO MINOR</td>\n",
       "        </tr>\n",
       "        <tr>\n",
       "            <td>HK238408</td>\n",
       "            <td>ILLEGAL CONSUMPTION BY MINOR</td>\n",
       "        </tr>\n",
       "    </tbody>\n",
       "</table>"
      ],
      "text/plain": [
       "[('HL266884', 'SELL/GIVE/DEL LIQUOR TO MINOR'),\n",
       " ('HK238408', 'ILLEGAL CONSUMPTION BY MINOR')]"
      ]
     },
     "execution_count": 46,
     "metadata": {},
     "output_type": "execute_result"
    }
   ],
   "source": [
    "%sql select CASE_NUMBER, description from chicago_crime_data where description like '%minor%'"
   ]
  },
  {
   "cell_type": "markdown",
   "metadata": {},
   "source": [
    "### Problem 4\n",
    "\n",
    "##### List all kidnapping crimes involving a child?\n"
   ]
  },
  {
   "cell_type": "code",
   "execution_count": 15,
   "metadata": {
    "collapsed": true,
    "jupyter": {
     "outputs_hidden": true
    },
    "tags": []
   },
   "outputs": [
    {
     "name": "stdout",
     "output_type": "stream",
     "text": [
      "   sqlite:///FianlDB.db\n",
      " * sqlite:///FinalDB.db\n",
      "Done.\n"
     ]
    },
    {
     "data": {
      "text/html": [
       "<table>\n",
       "    <thead>\n",
       "        <tr>\n",
       "            <th>PRIMARY_TYPE</th>\n",
       "        </tr>\n",
       "    </thead>\n",
       "    <tbody>\n",
       "        <tr>\n",
       "            <td>THEFT</td>\n",
       "        </tr>\n",
       "        <tr>\n",
       "            <td>BATTERY</td>\n",
       "        </tr>\n",
       "        <tr>\n",
       "            <td>CRIMINAL DAMAGE</td>\n",
       "        </tr>\n",
       "        <tr>\n",
       "            <td>NARCOTICS</td>\n",
       "        </tr>\n",
       "        <tr>\n",
       "            <td>OTHER OFFENSE</td>\n",
       "        </tr>\n",
       "        <tr>\n",
       "            <td>ASSAULT</td>\n",
       "        </tr>\n",
       "        <tr>\n",
       "            <td>BURGLARY</td>\n",
       "        </tr>\n",
       "        <tr>\n",
       "            <td>MOTOR VEHICLE THEFT</td>\n",
       "        </tr>\n",
       "        <tr>\n",
       "            <td>DECEPTIVE PRACTICE</td>\n",
       "        </tr>\n",
       "        <tr>\n",
       "            <td>ROBBERY</td>\n",
       "        </tr>\n",
       "        <tr>\n",
       "            <td>CRIMINAL TRESPASS</td>\n",
       "        </tr>\n",
       "        <tr>\n",
       "            <td>PROSTITUTION</td>\n",
       "        </tr>\n",
       "        <tr>\n",
       "            <td>WEAPONS VIOLATION</td>\n",
       "        </tr>\n",
       "        <tr>\n",
       "            <td>PUBLIC PEACE VIOLATION</td>\n",
       "        </tr>\n",
       "        <tr>\n",
       "            <td>OFFENSE INVOLVING CHILDREN</td>\n",
       "        </tr>\n",
       "        <tr>\n",
       "            <td>CRIM SEXUAL ASSAULT</td>\n",
       "        </tr>\n",
       "        <tr>\n",
       "            <td>SEX OFFENSE</td>\n",
       "        </tr>\n",
       "        <tr>\n",
       "            <td>INTERFERENCE WITH PUBLIC OFFICER</td>\n",
       "        </tr>\n",
       "        <tr>\n",
       "            <td>GAMBLING</td>\n",
       "        </tr>\n",
       "        <tr>\n",
       "            <td>LIQUOR LAW VIOLATION</td>\n",
       "        </tr>\n",
       "        <tr>\n",
       "            <td>ARSON</td>\n",
       "        </tr>\n",
       "        <tr>\n",
       "            <td>HOMICIDE</td>\n",
       "        </tr>\n",
       "        <tr>\n",
       "            <td>KIDNAPPING</td>\n",
       "        </tr>\n",
       "        <tr>\n",
       "            <td>INTIMIDATION</td>\n",
       "        </tr>\n",
       "        <tr>\n",
       "            <td>STALKING</td>\n",
       "        </tr>\n",
       "        <tr>\n",
       "            <td>OBSCENITY</td>\n",
       "        </tr>\n",
       "        <tr>\n",
       "            <td>CONCEALED CARRY LICENSE VIOLATION</td>\n",
       "        </tr>\n",
       "        <tr>\n",
       "            <td>PUBLIC INDECENCY</td>\n",
       "        </tr>\n",
       "        <tr>\n",
       "            <td>NON-CRIMINAL</td>\n",
       "        </tr>\n",
       "        <tr>\n",
       "            <td>OTHER NARCOTIC VIOLATION</td>\n",
       "        </tr>\n",
       "        <tr>\n",
       "            <td>HUMAN TRAFFICKING</td>\n",
       "        </tr>\n",
       "        <tr>\n",
       "            <td>NON - CRIMINAL</td>\n",
       "        </tr>\n",
       "        <tr>\n",
       "            <td>RITUALISM</td>\n",
       "        </tr>\n",
       "        <tr>\n",
       "            <td>NON-CRIMINAL (SUBJECT SPECIFIED)</td>\n",
       "        </tr>\n",
       "        <tr>\n",
       "            <td>DOMESTIC VIOLENCE</td>\n",
       "        </tr>\n",
       "    </tbody>\n",
       "</table>"
      ],
      "text/plain": [
       "[('THEFT',),\n",
       " ('BATTERY',),\n",
       " ('CRIMINAL DAMAGE',),\n",
       " ('NARCOTICS',),\n",
       " ('OTHER OFFENSE',),\n",
       " ('ASSAULT',),\n",
       " ('BURGLARY',),\n",
       " ('MOTOR VEHICLE THEFT',),\n",
       " ('DECEPTIVE PRACTICE',),\n",
       " ('ROBBERY',),\n",
       " ('CRIMINAL TRESPASS',),\n",
       " ('PROSTITUTION',),\n",
       " ('WEAPONS VIOLATION',),\n",
       " ('PUBLIC PEACE VIOLATION',),\n",
       " ('OFFENSE INVOLVING CHILDREN',),\n",
       " ('CRIM SEXUAL ASSAULT',),\n",
       " ('SEX OFFENSE',),\n",
       " ('INTERFERENCE WITH PUBLIC OFFICER',),\n",
       " ('GAMBLING',),\n",
       " ('LIQUOR LAW VIOLATION',),\n",
       " ('ARSON',),\n",
       " ('HOMICIDE',),\n",
       " ('KIDNAPPING',),\n",
       " ('INTIMIDATION',),\n",
       " ('STALKING',),\n",
       " ('OBSCENITY',),\n",
       " ('CONCEALED CARRY LICENSE VIOLATION',),\n",
       " ('PUBLIC INDECENCY',),\n",
       " ('NON-CRIMINAL',),\n",
       " ('OTHER NARCOTIC VIOLATION',),\n",
       " ('HUMAN TRAFFICKING',),\n",
       " ('NON - CRIMINAL',),\n",
       " ('RITUALISM',),\n",
       " ('NON-CRIMINAL (SUBJECT SPECIFIED)',),\n",
       " ('DOMESTIC VIOLENCE',)]"
      ]
     },
     "execution_count": 15,
     "metadata": {},
     "output_type": "execute_result"
    }
   ],
   "source": [
    "%sql select distinct(PRIMARY_TYPE) from chicago_crime_data"
   ]
  },
  {
   "cell_type": "code",
   "execution_count": 47,
   "metadata": {
    "tags": []
   },
   "outputs": [
    {
     "name": "stdout",
     "output_type": "stream",
     "text": [
      "   sqlite:///FianlDB.db\n",
      " * sqlite:///FinalDB.db\n",
      "Done.\n"
     ]
    },
    {
     "data": {
      "text/html": [
       "<table>\n",
       "    <thead>\n",
       "        <tr>\n",
       "            <th>ID</th>\n",
       "            <th>CASE_NUMBER</th>\n",
       "            <th>DATE</th>\n",
       "            <th>BLOCK</th>\n",
       "            <th>IUCR</th>\n",
       "            <th>PRIMARY_TYPE</th>\n",
       "            <th>DESCRIPTION</th>\n",
       "            <th>LOCATION_DESCRIPTION</th>\n",
       "            <th>ARREST</th>\n",
       "            <th>DOMESTIC</th>\n",
       "            <th>BEAT</th>\n",
       "            <th>DISTRICT</th>\n",
       "            <th>WARD</th>\n",
       "            <th>COMMUNITY_AREA_NUMBER</th>\n",
       "            <th>FBICODE</th>\n",
       "            <th>X_COORDINATE</th>\n",
       "            <th>Y_COORDINATE</th>\n",
       "            <th>YEAR</th>\n",
       "            <th>LATITUDE</th>\n",
       "            <th>LONGITUDE</th>\n",
       "            <th>LOCATION</th>\n",
       "        </tr>\n",
       "    </thead>\n",
       "    <tbody>\n",
       "        <tr>\n",
       "            <td>5276766</td>\n",
       "            <td>HN144152</td>\n",
       "            <td>2007-01-26</td>\n",
       "            <td>050XX W VAN BUREN ST</td>\n",
       "            <td>1792</td>\n",
       "            <td>KIDNAPPING</td>\n",
       "            <td>CHILD ABDUCTION/STRANGER</td>\n",
       "            <td>STREET</td>\n",
       "            <td>0</td>\n",
       "            <td>0</td>\n",
       "            <td>1533</td>\n",
       "            <td>15</td>\n",
       "            <td>29.0</td>\n",
       "            <td>25.0</td>\n",
       "            <td>20</td>\n",
       "            <td>1143050.0</td>\n",
       "            <td>1897546.0</td>\n",
       "            <td>2007</td>\n",
       "            <td>41.87490841</td>\n",
       "            <td>-87.75024931</td>\n",
       "            <td>(41.874908413, -87.750249307)</td>\n",
       "        </tr>\n",
       "    </tbody>\n",
       "</table>"
      ],
      "text/plain": [
       "[(5276766, 'HN144152', '2007-01-26', '050XX W VAN BUREN ST', '1792', 'KIDNAPPING', 'CHILD ABDUCTION/STRANGER', 'STREET', 0, 0, 1533, 15, 29.0, 25.0, '20', 1143050.0, 1897546.0, 2007, 41.87490841, -87.75024931, '(41.874908413, -87.750249307)')]"
      ]
     },
     "execution_count": 47,
     "metadata": {},
     "output_type": "execute_result"
    }
   ],
   "source": [
    "%sql select * from chicago_crime_data where PRIMARY_TYPE = 'KIDNAPPING' AND description like '%child%'"
   ]
  },
  {
   "cell_type": "markdown",
   "metadata": {},
   "source": [
    "### Problem 5\n",
    "\n",
    "##### List the kind of crimes that were recorded at schools. (No repetitions)\n"
   ]
  },
  {
   "cell_type": "code",
   "execution_count": 20,
   "metadata": {
    "collapsed": true,
    "jupyter": {
     "outputs_hidden": true
    },
    "tags": []
   },
   "outputs": [
    {
     "name": "stdout",
     "output_type": "stream",
     "text": [
      "   sqlite:///FianlDB.db\n",
      " * sqlite:///FinalDB.db\n",
      "Done.\n"
     ]
    },
    {
     "data": {
      "text/html": [
       "<table>\n",
       "    <thead>\n",
       "        <tr>\n",
       "            <th>LOCATION_DESCRIPTION</th>\n",
       "        </tr>\n",
       "    </thead>\n",
       "    <tbody>\n",
       "        <tr>\n",
       "            <td>SMALL RETAIL STORE</td>\n",
       "        </tr>\n",
       "        <tr>\n",
       "            <td>OTHER</td>\n",
       "        </tr>\n",
       "        <tr>\n",
       "            <td>NURSING HOME/RETIREMENT HOME</td>\n",
       "        </tr>\n",
       "        <tr>\n",
       "            <td>RESIDENCE</td>\n",
       "        </tr>\n",
       "        <tr>\n",
       "            <td>ALLEY</td>\n",
       "        </tr>\n",
       "        <tr>\n",
       "            <td>PARKING LOT/GARAGE(NON.RESID.)</td>\n",
       "        </tr>\n",
       "        <tr>\n",
       "            <td>STREET</td>\n",
       "        </tr>\n",
       "        <tr>\n",
       "            <td>GROCERY FOOD STORE</td>\n",
       "        </tr>\n",
       "        <tr>\n",
       "            <td>DEPARTMENT STORE</td>\n",
       "        </tr>\n",
       "        <tr>\n",
       "            <td>BAR OR TAVERN</td>\n",
       "        </tr>\n",
       "        <tr>\n",
       "            <td>RESIDENTIAL YARD (FRONT/BACK)</td>\n",
       "        </tr>\n",
       "        <tr>\n",
       "            <td>RESIDENCE PORCH/HALLWAY</td>\n",
       "        </tr>\n",
       "        <tr>\n",
       "            <td>CTA PLATFORM</td>\n",
       "        </tr>\n",
       "        <tr>\n",
       "            <td>VACANT LOT/LAND</td>\n",
       "        </tr>\n",
       "        <tr>\n",
       "            <td>SIDEWALK</td>\n",
       "        </tr>\n",
       "        <tr>\n",
       "            <td>ATHLETIC CLUB</td>\n",
       "        </tr>\n",
       "        <tr>\n",
       "            <td>AIRPORT/AIRCRAFT</td>\n",
       "        </tr>\n",
       "        <tr>\n",
       "            <td>APARTMENT</td>\n",
       "        </tr>\n",
       "        <tr>\n",
       "            <td>MOVIE HOUSE/THEATER</td>\n",
       "        </tr>\n",
       "        <tr>\n",
       "            <td>VEHICLE NON-COMMERCIAL</td>\n",
       "        </tr>\n",
       "        <tr>\n",
       "            <td>RESTAURANT</td>\n",
       "        </tr>\n",
       "        <tr>\n",
       "            <td>RESIDENCE-GARAGE</td>\n",
       "        </tr>\n",
       "        <tr>\n",
       "            <td>COMMERCIAL / BUSINESS OFFICE</td>\n",
       "        </tr>\n",
       "        <tr>\n",
       "            <td>TAVERN/LIQUOR STORE</td>\n",
       "        </tr>\n",
       "        <tr>\n",
       "            <td>CONSTRUCTION SITE</td>\n",
       "        </tr>\n",
       "        <tr>\n",
       "            <td>GAS STATION</td>\n",
       "        </tr>\n",
       "        <tr>\n",
       "            <td>DRUG STORE</td>\n",
       "        </tr>\n",
       "        <tr>\n",
       "            <td>CTA BUS</td>\n",
       "        </tr>\n",
       "        <tr>\n",
       "            <td>SCHOOL, PUBLIC, GROUNDS</td>\n",
       "        </tr>\n",
       "        <tr>\n",
       "            <td>SCHOOL, PUBLIC, BUILDING</td>\n",
       "        </tr>\n",
       "        <tr>\n",
       "            <td>CHURCH/SYNAGOGUE/PLACE OF WORSHIP</td>\n",
       "        </tr>\n",
       "        <tr>\n",
       "            <td>OTHER COMMERCIAL TRANSPORTATION</td>\n",
       "        </tr>\n",
       "        <tr>\n",
       "            <td>CHA APARTMENT</td>\n",
       "        </tr>\n",
       "        <tr>\n",
       "            <td>WAREHOUSE</td>\n",
       "        </tr>\n",
       "        <tr>\n",
       "            <td>POLICE FACILITY/VEH PARKING LOT</td>\n",
       "        </tr>\n",
       "        <tr>\n",
       "            <td>HOSPITAL BUILDING/GROUNDS</td>\n",
       "        </tr>\n",
       "        <tr>\n",
       "            <td>FACTORY/MANUFACTURING BUILDING</td>\n",
       "        </tr>\n",
       "        <tr>\n",
       "            <td>CLEANING STORE</td>\n",
       "        </tr>\n",
       "        <tr>\n",
       "            <td>CTA TRAIN</td>\n",
       "        </tr>\n",
       "        <tr>\n",
       "            <td>BANK</td>\n",
       "        </tr>\n",
       "        <tr>\n",
       "            <td>CHA PARKING LOT/GROUNDS</td>\n",
       "        </tr>\n",
       "        <tr>\n",
       "            <td>LIBRARY</td>\n",
       "        </tr>\n",
       "        <tr>\n",
       "            <td>CHA HALLWAY/STAIRWELL/ELEVATOR</td>\n",
       "        </tr>\n",
       "        <tr>\n",
       "            <td>COLLEGE/UNIVERSITY GROUNDS</td>\n",
       "        </tr>\n",
       "        <tr>\n",
       "            <td>SCHOOL, PRIVATE, BUILDING</td>\n",
       "        </tr>\n",
       "        <tr>\n",
       "            <td>CONVENIENCE STORE</td>\n",
       "        </tr>\n",
       "        <tr>\n",
       "            <td>HOUSE</td>\n",
       "        </tr>\n",
       "        <tr>\n",
       "            <td>GOVERNMENT BUILDING/PROPERTY</td>\n",
       "        </tr>\n",
       "    </tbody>\n",
       "</table>"
      ],
      "text/plain": [
       "[('SMALL RETAIL STORE',),\n",
       " ('OTHER',),\n",
       " ('NURSING HOME/RETIREMENT HOME',),\n",
       " ('RESIDENCE',),\n",
       " ('ALLEY',),\n",
       " ('PARKING LOT/GARAGE(NON.RESID.)',),\n",
       " ('STREET',),\n",
       " ('GROCERY FOOD STORE',),\n",
       " ('DEPARTMENT STORE',),\n",
       " ('BAR OR TAVERN',),\n",
       " ('RESIDENTIAL YARD (FRONT/BACK)',),\n",
       " ('RESIDENCE PORCH/HALLWAY',),\n",
       " ('CTA PLATFORM',),\n",
       " ('VACANT LOT/LAND',),\n",
       " ('SIDEWALK',),\n",
       " ('ATHLETIC CLUB',),\n",
       " ('AIRPORT/AIRCRAFT',),\n",
       " ('APARTMENT',),\n",
       " ('MOVIE HOUSE/THEATER',),\n",
       " ('VEHICLE NON-COMMERCIAL',),\n",
       " ('RESTAURANT',),\n",
       " ('RESIDENCE-GARAGE',),\n",
       " ('COMMERCIAL / BUSINESS OFFICE',),\n",
       " ('TAVERN/LIQUOR STORE',),\n",
       " ('CONSTRUCTION SITE',),\n",
       " ('GAS STATION',),\n",
       " ('DRUG STORE',),\n",
       " ('CTA BUS',),\n",
       " ('SCHOOL, PUBLIC, GROUNDS',),\n",
       " ('SCHOOL, PUBLIC, BUILDING',),\n",
       " ('CHURCH/SYNAGOGUE/PLACE OF WORSHIP',),\n",
       " ('OTHER COMMERCIAL TRANSPORTATION',),\n",
       " ('CHA APARTMENT',),\n",
       " ('WAREHOUSE',),\n",
       " ('POLICE FACILITY/VEH PARKING LOT',),\n",
       " ('HOSPITAL BUILDING/GROUNDS',),\n",
       " ('FACTORY/MANUFACTURING BUILDING',),\n",
       " ('CLEANING STORE',),\n",
       " ('CTA TRAIN',),\n",
       " ('BANK',),\n",
       " ('CHA PARKING LOT/GROUNDS',),\n",
       " ('LIBRARY',),\n",
       " ('CHA HALLWAY/STAIRWELL/ELEVATOR',),\n",
       " ('COLLEGE/UNIVERSITY GROUNDS',),\n",
       " ('SCHOOL, PRIVATE, BUILDING',),\n",
       " ('CONVENIENCE STORE',),\n",
       " ('HOUSE',),\n",
       " ('GOVERNMENT BUILDING/PROPERTY',)]"
      ]
     },
     "execution_count": 20,
     "metadata": {},
     "output_type": "execute_result"
    }
   ],
   "source": [
    "%sql select distinct(LOCATION_DESCRIPTION) from chicago_crime_data"
   ]
  },
  {
   "cell_type": "code",
   "execution_count": 21,
   "metadata": {
    "collapsed": true,
    "jupyter": {
     "outputs_hidden": true
    },
    "tags": []
   },
   "outputs": [
    {
     "name": "stdout",
     "output_type": "stream",
     "text": [
      "   sqlite:///FianlDB.db\n",
      " * sqlite:///FinalDB.db\n",
      "Done.\n"
     ]
    },
    {
     "data": {
      "text/html": [
       "<table>\n",
       "    <thead>\n",
       "        <tr>\n",
       "            <th>PRIMARY_TYPE</th>\n",
       "        </tr>\n",
       "    </thead>\n",
       "    <tbody>\n",
       "        <tr>\n",
       "            <td>BATTERY</td>\n",
       "        </tr>\n",
       "        <tr>\n",
       "            <td>CRIMINAL DAMAGE</td>\n",
       "        </tr>\n",
       "        <tr>\n",
       "            <td>NARCOTICS</td>\n",
       "        </tr>\n",
       "        <tr>\n",
       "            <td>ASSAULT</td>\n",
       "        </tr>\n",
       "        <tr>\n",
       "            <td>CRIMINAL TRESPASS</td>\n",
       "        </tr>\n",
       "        <tr>\n",
       "            <td>PUBLIC PEACE VIOLATION</td>\n",
       "        </tr>\n",
       "    </tbody>\n",
       "</table>"
      ],
      "text/plain": [
       "[('BATTERY',),\n",
       " ('CRIMINAL DAMAGE',),\n",
       " ('NARCOTICS',),\n",
       " ('ASSAULT',),\n",
       " ('CRIMINAL TRESPASS',),\n",
       " ('PUBLIC PEACE VIOLATION',)]"
      ]
     },
     "execution_count": 21,
     "metadata": {},
     "output_type": "execute_result"
    }
   ],
   "source": [
    "%sql select distinct(PRIMARY_TYPE) from chicago_crime_data where LOCATION_DESCRIPTION in ('SCHOOL, PUBLIC, GROUNDS','SCHOOL, PUBLIC, BUILDING','SCHOOL, PRIVATE, BUILDING')"
   ]
  },
  {
   "cell_type": "markdown",
   "metadata": {},
   "source": [
    "### Problem 6\n",
    "\n",
    "##### List the type of schools along with the average safety score for each type.\n"
   ]
  },
  {
   "cell_type": "code",
   "execution_count": 22,
   "metadata": {
    "collapsed": true,
    "jupyter": {
     "outputs_hidden": true
    },
    "tags": []
   },
   "outputs": [
    {
     "name": "stdout",
     "output_type": "stream",
     "text": [
      "   sqlite:///FianlDB.db\n",
      " * sqlite:///FinalDB.db\n",
      "Done.\n"
     ]
    },
    {
     "data": {
      "text/html": [
       "<table>\n",
       "    <thead>\n",
       "        <tr>\n",
       "            <th>name</th>\n",
       "        </tr>\n",
       "    </thead>\n",
       "    <tbody>\n",
       "        <tr>\n",
       "            <td>School_ID</td>\n",
       "        </tr>\n",
       "        <tr>\n",
       "            <td>NAME_OF_SCHOOL</td>\n",
       "        </tr>\n",
       "        <tr>\n",
       "            <td>Elementary, Middle, or High School</td>\n",
       "        </tr>\n",
       "        <tr>\n",
       "            <td>Street_Address</td>\n",
       "        </tr>\n",
       "        <tr>\n",
       "            <td>City</td>\n",
       "        </tr>\n",
       "        <tr>\n",
       "            <td>State</td>\n",
       "        </tr>\n",
       "        <tr>\n",
       "            <td>ZIP_Code</td>\n",
       "        </tr>\n",
       "        <tr>\n",
       "            <td>Phone_Number</td>\n",
       "        </tr>\n",
       "        <tr>\n",
       "            <td>Link</td>\n",
       "        </tr>\n",
       "        <tr>\n",
       "            <td>Network_Manager</td>\n",
       "        </tr>\n",
       "        <tr>\n",
       "            <td>Collaborative_Name</td>\n",
       "        </tr>\n",
       "        <tr>\n",
       "            <td>Adequate_Yearly_Progress_Made_</td>\n",
       "        </tr>\n",
       "        <tr>\n",
       "            <td>Track_Schedule</td>\n",
       "        </tr>\n",
       "        <tr>\n",
       "            <td>CPS_Performance_Policy_Status</td>\n",
       "        </tr>\n",
       "        <tr>\n",
       "            <td>CPS_Performance_Policy_Level</td>\n",
       "        </tr>\n",
       "        <tr>\n",
       "            <td>HEALTHY_SCHOOL_CERTIFIED</td>\n",
       "        </tr>\n",
       "        <tr>\n",
       "            <td>Safety_Icon</td>\n",
       "        </tr>\n",
       "        <tr>\n",
       "            <td>SAFETY_SCORE</td>\n",
       "        </tr>\n",
       "        <tr>\n",
       "            <td>Family_Involvement_Icon</td>\n",
       "        </tr>\n",
       "        <tr>\n",
       "            <td>Family_Involvement_Score</td>\n",
       "        </tr>\n",
       "        <tr>\n",
       "            <td>Environment_Icon</td>\n",
       "        </tr>\n",
       "        <tr>\n",
       "            <td>Environment_Score</td>\n",
       "        </tr>\n",
       "        <tr>\n",
       "            <td>Instruction_Icon</td>\n",
       "        </tr>\n",
       "        <tr>\n",
       "            <td>Instruction_Score</td>\n",
       "        </tr>\n",
       "        <tr>\n",
       "            <td>Leaders_Icon</td>\n",
       "        </tr>\n",
       "        <tr>\n",
       "            <td>Leaders_Score</td>\n",
       "        </tr>\n",
       "        <tr>\n",
       "            <td>Teachers_Icon</td>\n",
       "        </tr>\n",
       "        <tr>\n",
       "            <td>Teachers_Score</td>\n",
       "        </tr>\n",
       "        <tr>\n",
       "            <td>Parent_Engagement_Icon</td>\n",
       "        </tr>\n",
       "        <tr>\n",
       "            <td>Parent_Engagement_Score</td>\n",
       "        </tr>\n",
       "        <tr>\n",
       "            <td>Parent_Environment_Icon</td>\n",
       "        </tr>\n",
       "        <tr>\n",
       "            <td>Parent_Environment_Score</td>\n",
       "        </tr>\n",
       "        <tr>\n",
       "            <td>AVERAGE_STUDENT_ATTENDANCE</td>\n",
       "        </tr>\n",
       "        <tr>\n",
       "            <td>Rate_of_Misconducts__per_100_students_</td>\n",
       "        </tr>\n",
       "        <tr>\n",
       "            <td>Average_Teacher_Attendance</td>\n",
       "        </tr>\n",
       "        <tr>\n",
       "            <td>Individualized_Education_Program_Compliance_Rate</td>\n",
       "        </tr>\n",
       "        <tr>\n",
       "            <td>Pk_2_Literacy__</td>\n",
       "        </tr>\n",
       "        <tr>\n",
       "            <td>Pk_2_Math__</td>\n",
       "        </tr>\n",
       "        <tr>\n",
       "            <td>Gr3_5_Grade_Level_Math__</td>\n",
       "        </tr>\n",
       "        <tr>\n",
       "            <td>Gr3_5_Grade_Level_Read__</td>\n",
       "        </tr>\n",
       "        <tr>\n",
       "            <td>Gr3_5_Keep_Pace_Read__</td>\n",
       "        </tr>\n",
       "        <tr>\n",
       "            <td>Gr3_5_Keep_Pace_Math__</td>\n",
       "        </tr>\n",
       "        <tr>\n",
       "            <td>Gr6_8_Grade_Level_Math__</td>\n",
       "        </tr>\n",
       "        <tr>\n",
       "            <td>Gr6_8_Grade_Level_Read__</td>\n",
       "        </tr>\n",
       "        <tr>\n",
       "            <td>Gr6_8_Keep_Pace_Math_</td>\n",
       "        </tr>\n",
       "        <tr>\n",
       "            <td>Gr6_8_Keep_Pace_Read__</td>\n",
       "        </tr>\n",
       "        <tr>\n",
       "            <td>Gr_8_Explore_Math__</td>\n",
       "        </tr>\n",
       "        <tr>\n",
       "            <td>Gr_8_Explore_Read__</td>\n",
       "        </tr>\n",
       "        <tr>\n",
       "            <td>ISAT_Exceeding_Math__</td>\n",
       "        </tr>\n",
       "        <tr>\n",
       "            <td>ISAT_Exceeding_Reading__</td>\n",
       "        </tr>\n",
       "        <tr>\n",
       "            <td>ISAT_Value_Add_Math</td>\n",
       "        </tr>\n",
       "        <tr>\n",
       "            <td>ISAT_Value_Add_Read</td>\n",
       "        </tr>\n",
       "        <tr>\n",
       "            <td>ISAT_Value_Add_Color_Math</td>\n",
       "        </tr>\n",
       "        <tr>\n",
       "            <td>ISAT_Value_Add_Color_Read</td>\n",
       "        </tr>\n",
       "        <tr>\n",
       "            <td>Students_Taking__Algebra__</td>\n",
       "        </tr>\n",
       "        <tr>\n",
       "            <td>Students_Passing__Algebra__</td>\n",
       "        </tr>\n",
       "        <tr>\n",
       "            <td>9th Grade EXPLORE (2009)</td>\n",
       "        </tr>\n",
       "        <tr>\n",
       "            <td>9th Grade EXPLORE (2010)</td>\n",
       "        </tr>\n",
       "        <tr>\n",
       "            <td>10th Grade PLAN (2009)</td>\n",
       "        </tr>\n",
       "        <tr>\n",
       "            <td>10th Grade PLAN (2010)</td>\n",
       "        </tr>\n",
       "        <tr>\n",
       "            <td>Net_Change_EXPLORE_and_PLAN</td>\n",
       "        </tr>\n",
       "        <tr>\n",
       "            <td>11th Grade Average ACT (2011)</td>\n",
       "        </tr>\n",
       "        <tr>\n",
       "            <td>Net_Change_PLAN_and_ACT</td>\n",
       "        </tr>\n",
       "        <tr>\n",
       "            <td>College_Eligibility__</td>\n",
       "        </tr>\n",
       "        <tr>\n",
       "            <td>Graduation_Rate__</td>\n",
       "        </tr>\n",
       "        <tr>\n",
       "            <td>College_Enrollment_Rate__</td>\n",
       "        </tr>\n",
       "        <tr>\n",
       "            <td>COLLEGE_ENROLLMENT</td>\n",
       "        </tr>\n",
       "        <tr>\n",
       "            <td>General_Services_Route</td>\n",
       "        </tr>\n",
       "        <tr>\n",
       "            <td>Freshman_on_Track_Rate__</td>\n",
       "        </tr>\n",
       "        <tr>\n",
       "            <td>X_COORDINATE</td>\n",
       "        </tr>\n",
       "        <tr>\n",
       "            <td>Y_COORDINATE</td>\n",
       "        </tr>\n",
       "        <tr>\n",
       "            <td>Latitude</td>\n",
       "        </tr>\n",
       "        <tr>\n",
       "            <td>Longitude</td>\n",
       "        </tr>\n",
       "        <tr>\n",
       "            <td>COMMUNITY_AREA_NUMBER</td>\n",
       "        </tr>\n",
       "        <tr>\n",
       "            <td>COMMUNITY_AREA_NAME</td>\n",
       "        </tr>\n",
       "        <tr>\n",
       "            <td>Ward</td>\n",
       "        </tr>\n",
       "        <tr>\n",
       "            <td>Police_District</td>\n",
       "        </tr>\n",
       "        <tr>\n",
       "            <td>Location</td>\n",
       "        </tr>\n",
       "    </tbody>\n",
       "</table>"
      ],
      "text/plain": [
       "[('School_ID',),\n",
       " ('NAME_OF_SCHOOL',),\n",
       " ('Elementary, Middle, or High School',),\n",
       " ('Street_Address',),\n",
       " ('City',),\n",
       " ('State',),\n",
       " ('ZIP_Code',),\n",
       " ('Phone_Number',),\n",
       " ('Link',),\n",
       " ('Network_Manager',),\n",
       " ('Collaborative_Name',),\n",
       " ('Adequate_Yearly_Progress_Made_',),\n",
       " ('Track_Schedule',),\n",
       " ('CPS_Performance_Policy_Status',),\n",
       " ('CPS_Performance_Policy_Level',),\n",
       " ('HEALTHY_SCHOOL_CERTIFIED',),\n",
       " ('Safety_Icon',),\n",
       " ('SAFETY_SCORE',),\n",
       " ('Family_Involvement_Icon',),\n",
       " ('Family_Involvement_Score',),\n",
       " ('Environment_Icon',),\n",
       " ('Environment_Score',),\n",
       " ('Instruction_Icon',),\n",
       " ('Instruction_Score',),\n",
       " ('Leaders_Icon',),\n",
       " ('Leaders_Score',),\n",
       " ('Teachers_Icon',),\n",
       " ('Teachers_Score',),\n",
       " ('Parent_Engagement_Icon',),\n",
       " ('Parent_Engagement_Score',),\n",
       " ('Parent_Environment_Icon',),\n",
       " ('Parent_Environment_Score',),\n",
       " ('AVERAGE_STUDENT_ATTENDANCE',),\n",
       " ('Rate_of_Misconducts__per_100_students_',),\n",
       " ('Average_Teacher_Attendance',),\n",
       " ('Individualized_Education_Program_Compliance_Rate',),\n",
       " ('Pk_2_Literacy__',),\n",
       " ('Pk_2_Math__',),\n",
       " ('Gr3_5_Grade_Level_Math__',),\n",
       " ('Gr3_5_Grade_Level_Read__',),\n",
       " ('Gr3_5_Keep_Pace_Read__',),\n",
       " ('Gr3_5_Keep_Pace_Math__',),\n",
       " ('Gr6_8_Grade_Level_Math__',),\n",
       " ('Gr6_8_Grade_Level_Read__',),\n",
       " ('Gr6_8_Keep_Pace_Math_',),\n",
       " ('Gr6_8_Keep_Pace_Read__',),\n",
       " ('Gr_8_Explore_Math__',),\n",
       " ('Gr_8_Explore_Read__',),\n",
       " ('ISAT_Exceeding_Math__',),\n",
       " ('ISAT_Exceeding_Reading__',),\n",
       " ('ISAT_Value_Add_Math',),\n",
       " ('ISAT_Value_Add_Read',),\n",
       " ('ISAT_Value_Add_Color_Math',),\n",
       " ('ISAT_Value_Add_Color_Read',),\n",
       " ('Students_Taking__Algebra__',),\n",
       " ('Students_Passing__Algebra__',),\n",
       " ('9th Grade EXPLORE (2009)',),\n",
       " ('9th Grade EXPLORE (2010)',),\n",
       " ('10th Grade PLAN (2009)',),\n",
       " ('10th Grade PLAN (2010)',),\n",
       " ('Net_Change_EXPLORE_and_PLAN',),\n",
       " ('11th Grade Average ACT (2011)',),\n",
       " ('Net_Change_PLAN_and_ACT',),\n",
       " ('College_Eligibility__',),\n",
       " ('Graduation_Rate__',),\n",
       " ('College_Enrollment_Rate__',),\n",
       " ('COLLEGE_ENROLLMENT',),\n",
       " ('General_Services_Route',),\n",
       " ('Freshman_on_Track_Rate__',),\n",
       " ('X_COORDINATE',),\n",
       " ('Y_COORDINATE',),\n",
       " ('Latitude',),\n",
       " ('Longitude',),\n",
       " ('COMMUNITY_AREA_NUMBER',),\n",
       " ('COMMUNITY_AREA_NAME',),\n",
       " ('Ward',),\n",
       " ('Police_District',),\n",
       " ('Location',)]"
      ]
     },
     "execution_count": 22,
     "metadata": {},
     "output_type": "execute_result"
    }
   ],
   "source": [
    "%sql select name from PRAGMA_TABLE_INFO('CHICAGO_PUBLIC_SCHOOLS_DATA')"
   ]
  },
  {
   "cell_type": "code",
   "execution_count": 29,
   "metadata": {
    "tags": []
   },
   "outputs": [
    {
     "name": "stdout",
     "output_type": "stream",
     "text": [
      "   sqlite:///FianlDB.db\n",
      " * sqlite:///FinalDB.db\n",
      "Done.\n"
     ]
    },
    {
     "data": {
      "text/html": [
       "<table>\n",
       "    <thead>\n",
       "        <tr>\n",
       "            <th>Elementary, Middle, or High School</th>\n",
       "            <th>AVG(SAFETY_SCORE)</th>\n",
       "        </tr>\n",
       "    </thead>\n",
       "    <tbody>\n",
       "        <tr>\n",
       "            <td>ES</td>\n",
       "            <td>49.52038369304557</td>\n",
       "        </tr>\n",
       "        <tr>\n",
       "            <td>HS</td>\n",
       "            <td>49.62352941176471</td>\n",
       "        </tr>\n",
       "        <tr>\n",
       "            <td>MS</td>\n",
       "            <td>48.0</td>\n",
       "        </tr>\n",
       "    </tbody>\n",
       "</table>"
      ],
      "text/plain": [
       "[('ES', 49.52038369304557), ('HS', 49.62352941176471), ('MS', 48.0)]"
      ]
     },
     "execution_count": 29,
     "metadata": {},
     "output_type": "execute_result"
    }
   ],
   "source": [
    "%sql select \"Elementary, Middle, or High School\", AVG(SAFETY_SCORE) from chicago_public_schools_data group by \"Elementary, Middle, or High School\""
   ]
  },
  {
   "cell_type": "markdown",
   "metadata": {},
   "source": [
    "### Problem 7\n",
    "\n",
    "##### List 5 community areas with highest % of households below poverty line\n"
   ]
  },
  {
   "cell_type": "code",
   "execution_count": 30,
   "metadata": {
    "collapsed": true,
    "jupyter": {
     "outputs_hidden": true
    },
    "tags": []
   },
   "outputs": [
    {
     "name": "stdout",
     "output_type": "stream",
     "text": [
      "   sqlite:///FianlDB.db\n",
      " * sqlite:///FinalDB.db\n",
      "Done.\n"
     ]
    },
    {
     "data": {
      "text/html": [
       "<table>\n",
       "    <thead>\n",
       "        <tr>\n",
       "            <th>COMMUNITY_AREA_NUMBER</th>\n",
       "            <th>COMMUNITY_AREA_NAME</th>\n",
       "            <th>PERCENT_OF_HOUSING_CROWDED</th>\n",
       "            <th>PERCENT_HOUSEHOLDS_BELOW_POVERTY</th>\n",
       "            <th>PERCENT_AGED_16__UNEMPLOYED</th>\n",
       "            <th>PERCENT_AGED_25__WITHOUT_HIGH_SCHOOL_DIPLOMA</th>\n",
       "            <th>PERCENT_AGED_UNDER_18_OR_OVER_64</th>\n",
       "            <th>PER_CAPITA_INCOME</th>\n",
       "            <th>HARDSHIP_INDEX</th>\n",
       "        </tr>\n",
       "    </thead>\n",
       "    <tbody>\n",
       "        <tr>\n",
       "            <td>1.0</td>\n",
       "            <td>Rogers Park</td>\n",
       "            <td>7.7</td>\n",
       "            <td>23.6</td>\n",
       "            <td>8.7</td>\n",
       "            <td>18.2</td>\n",
       "            <td>27.5</td>\n",
       "            <td>23939</td>\n",
       "            <td>39.0</td>\n",
       "        </tr>\n",
       "        <tr>\n",
       "            <td>2.0</td>\n",
       "            <td>West Ridge</td>\n",
       "            <td>7.8</td>\n",
       "            <td>17.2</td>\n",
       "            <td>8.8</td>\n",
       "            <td>20.8</td>\n",
       "            <td>38.5</td>\n",
       "            <td>23040</td>\n",
       "            <td>46.0</td>\n",
       "        </tr>\n",
       "        <tr>\n",
       "            <td>3.0</td>\n",
       "            <td>Uptown</td>\n",
       "            <td>3.8</td>\n",
       "            <td>24.0</td>\n",
       "            <td>8.9</td>\n",
       "            <td>11.8</td>\n",
       "            <td>22.2</td>\n",
       "            <td>35787</td>\n",
       "            <td>20.0</td>\n",
       "        </tr>\n",
       "        <tr>\n",
       "            <td>4.0</td>\n",
       "            <td>Lincoln Square</td>\n",
       "            <td>3.4</td>\n",
       "            <td>10.9</td>\n",
       "            <td>8.2</td>\n",
       "            <td>13.4</td>\n",
       "            <td>25.5</td>\n",
       "            <td>37524</td>\n",
       "            <td>17.0</td>\n",
       "        </tr>\n",
       "        <tr>\n",
       "            <td>5.0</td>\n",
       "            <td>North Center</td>\n",
       "            <td>0.3</td>\n",
       "            <td>7.5</td>\n",
       "            <td>5.2</td>\n",
       "            <td>4.5</td>\n",
       "            <td>26.2</td>\n",
       "            <td>57123</td>\n",
       "            <td>6.0</td>\n",
       "        </tr>\n",
       "    </tbody>\n",
       "</table>"
      ],
      "text/plain": [
       "[(1.0, 'Rogers Park', 7.7, 23.6, 8.7, 18.2, 27.5, 23939, 39.0),\n",
       " (2.0, 'West Ridge', 7.8, 17.2, 8.8, 20.8, 38.5, 23040, 46.0),\n",
       " (3.0, 'Uptown', 3.8, 24.0, 8.9, 11.8, 22.2, 35787, 20.0),\n",
       " (4.0, 'Lincoln Square', 3.4, 10.9, 8.2, 13.4, 25.5, 37524, 17.0),\n",
       " (5.0, 'North Center', 0.3, 7.5, 5.2, 4.5, 26.2, 57123, 6.0)]"
      ]
     },
     "execution_count": 30,
     "metadata": {},
     "output_type": "execute_result"
    }
   ],
   "source": [
    "%sql select * from chicago_census_data limit 5"
   ]
  },
  {
   "cell_type": "code",
   "execution_count": 31,
   "metadata": {
    "collapsed": true,
    "jupyter": {
     "outputs_hidden": true
    },
    "tags": []
   },
   "outputs": [
    {
     "name": "stdout",
     "output_type": "stream",
     "text": [
      "   sqlite:///FianlDB.db\n",
      " * sqlite:///FinalDB.db\n",
      "Done.\n"
     ]
    },
    {
     "data": {
      "text/html": [
       "<table>\n",
       "    <thead>\n",
       "        <tr>\n",
       "            <th>COMMUNITY_AREA_NAME</th>\n",
       "            <th>PERCENT_HOUSEHOLDS_BELOW_POVERTY</th>\n",
       "        </tr>\n",
       "    </thead>\n",
       "    <tbody>\n",
       "        <tr>\n",
       "            <td>Riverdale</td>\n",
       "            <td>56.5</td>\n",
       "        </tr>\n",
       "        <tr>\n",
       "            <td>Fuller Park</td>\n",
       "            <td>51.2</td>\n",
       "        </tr>\n",
       "        <tr>\n",
       "            <td>Englewood</td>\n",
       "            <td>46.6</td>\n",
       "        </tr>\n",
       "        <tr>\n",
       "            <td>North Lawndale</td>\n",
       "            <td>43.1</td>\n",
       "        </tr>\n",
       "        <tr>\n",
       "            <td>East Garfield Park</td>\n",
       "            <td>42.4</td>\n",
       "        </tr>\n",
       "    </tbody>\n",
       "</table>"
      ],
      "text/plain": [
       "[('Riverdale', 56.5),\n",
       " ('Fuller Park', 51.2),\n",
       " ('Englewood', 46.6),\n",
       " ('North Lawndale', 43.1),\n",
       " ('East Garfield Park', 42.4)]"
      ]
     },
     "execution_count": 31,
     "metadata": {},
     "output_type": "execute_result"
    }
   ],
   "source": [
    "%sql select COMMUNITY_AREA_NAME, PERCENT_HOUSEHOLDS_BELOW_POVERTY from chicago_census_data order by PERCENT_HOUSEHOLDS_BELOW_POVERTY DESC NULLS LAST LIMIT 5"
   ]
  },
  {
   "cell_type": "markdown",
   "metadata": {},
   "source": [
    "### Problem 8\n",
    "\n",
    "##### Which community area is most crime prone? Display the coumminty area number only.\n"
   ]
  },
  {
   "cell_type": "code",
   "execution_count": 53,
   "metadata": {
    "tags": []
   },
   "outputs": [
    {
     "name": "stdout",
     "output_type": "stream",
     "text": [
      "   sqlite:///FianlDB.db\n",
      " * sqlite:///FinalDB.db\n",
      "Done.\n"
     ]
    },
    {
     "data": {
      "text/html": [
       "<table>\n",
       "    <thead>\n",
       "        <tr>\n",
       "            <th>COMMUNITY_AREA_NUMBER</th>\n",
       "            <th>Frequency</th>\n",
       "        </tr>\n",
       "    </thead>\n",
       "    <tbody>\n",
       "        <tr>\n",
       "            <td>25.0</td>\n",
       "            <td>43</td>\n",
       "        </tr>\n",
       "    </tbody>\n",
       "</table>"
      ],
      "text/plain": [
       "[(25.0, 43)]"
      ]
     },
     "execution_count": 53,
     "metadata": {},
     "output_type": "execute_result"
    }
   ],
   "source": [
    "%%sql \n",
    "select COMMUNITY_AREA_NUMBER, COUNT(COMMUNITY_AREA_NUMBER) as Frequency\n",
    "from chicago_crime_data\n",
    "group by COMMUNITY_AREA_NUMBER\n",
    "order by COUNT(COMMUNITY_AREA_NUMBER) DESC NULLS LAST LIMIT 1;"
   ]
  },
  {
   "cell_type": "markdown",
   "metadata": {
    "jupyter": {
     "source_hidden": true
    },
    "tags": []
   },
   "source": [
    "\n",
    "Double-click **here** for a hint\n",
    "\n",
    "<!--\n",
    "Query for the 'community area number' that has most number of incidents\n",
    "-->\n"
   ]
  },
  {
   "cell_type": "markdown",
   "metadata": {
    "tags": []
   },
   "source": [
    "### Problem 9\n",
    "\n",
    "##### Use a sub-query to find the name of the community area with highest hardship index\n"
   ]
  },
  {
   "cell_type": "code",
   "execution_count": 37,
   "metadata": {
    "tags": []
   },
   "outputs": [
    {
     "name": "stdout",
     "output_type": "stream",
     "text": [
      "   sqlite:///FianlDB.db\n",
      " * sqlite:///FinalDB.db\n",
      "Done.\n"
     ]
    },
    {
     "data": {
      "text/html": [
       "<table>\n",
       "    <thead>\n",
       "        <tr>\n",
       "            <th>name</th>\n",
       "        </tr>\n",
       "    </thead>\n",
       "    <tbody>\n",
       "        <tr>\n",
       "            <td>COMMUNITY_AREA_NUMBER</td>\n",
       "        </tr>\n",
       "        <tr>\n",
       "            <td>COMMUNITY_AREA_NAME</td>\n",
       "        </tr>\n",
       "        <tr>\n",
       "            <td>PERCENT_OF_HOUSING_CROWDED</td>\n",
       "        </tr>\n",
       "        <tr>\n",
       "            <td>PERCENT_HOUSEHOLDS_BELOW_POVERTY</td>\n",
       "        </tr>\n",
       "        <tr>\n",
       "            <td>PERCENT_AGED_16__UNEMPLOYED</td>\n",
       "        </tr>\n",
       "        <tr>\n",
       "            <td>PERCENT_AGED_25__WITHOUT_HIGH_SCHOOL_DIPLOMA</td>\n",
       "        </tr>\n",
       "        <tr>\n",
       "            <td>PERCENT_AGED_UNDER_18_OR_OVER_64</td>\n",
       "        </tr>\n",
       "        <tr>\n",
       "            <td>PER_CAPITA_INCOME</td>\n",
       "        </tr>\n",
       "        <tr>\n",
       "            <td>HARDSHIP_INDEX</td>\n",
       "        </tr>\n",
       "    </tbody>\n",
       "</table>"
      ],
      "text/plain": [
       "[('COMMUNITY_AREA_NUMBER',),\n",
       " ('COMMUNITY_AREA_NAME',),\n",
       " ('PERCENT_OF_HOUSING_CROWDED',),\n",
       " ('PERCENT_HOUSEHOLDS_BELOW_POVERTY',),\n",
       " ('PERCENT_AGED_16__UNEMPLOYED',),\n",
       " ('PERCENT_AGED_25__WITHOUT_HIGH_SCHOOL_DIPLOMA',),\n",
       " ('PERCENT_AGED_UNDER_18_OR_OVER_64',),\n",
       " ('PER_CAPITA_INCOME',),\n",
       " ('HARDSHIP_INDEX',)]"
      ]
     },
     "execution_count": 37,
     "metadata": {},
     "output_type": "execute_result"
    }
   ],
   "source": [
    "%sql select name from PRAGMA_TABLE_INFO('chicago_census_data')"
   ]
  },
  {
   "cell_type": "code",
   "execution_count": 39,
   "metadata": {
    "tags": []
   },
   "outputs": [
    {
     "name": "stdout",
     "output_type": "stream",
     "text": [
      "   sqlite:///FianlDB.db\n",
      " * sqlite:///FinalDB.db\n",
      "Done.\n"
     ]
    },
    {
     "data": {
      "text/html": [
       "<table>\n",
       "    <thead>\n",
       "        <tr>\n",
       "            <th>COMMUNITY_AREA_NAME</th>\n",
       "        </tr>\n",
       "    </thead>\n",
       "    <tbody>\n",
       "        <tr>\n",
       "            <td>Riverdale</td>\n",
       "        </tr>\n",
       "    </tbody>\n",
       "</table>"
      ],
      "text/plain": [
       "[('Riverdale',)]"
      ]
     },
     "execution_count": 39,
     "metadata": {},
     "output_type": "execute_result"
    }
   ],
   "source": [
    "%%sql select COMMUNITY_AREA_NAME from chicago_census_data\n",
    "where COMMUNITY_AREA_NAME in (select COMMUNITY_AREA_NAME from chicago_census_data order by HARDSHIP_INDEX desc nulls last limit 1)"
   ]
  },
  {
   "cell_type": "markdown",
   "metadata": {},
   "source": [
    "### Problem 10\n",
    "\n",
    "##### Use a sub-query to determine the Community Area Name with most number of crimes?\n"
   ]
  },
  {
   "cell_type": "code",
   "execution_count": 55,
   "metadata": {
    "tags": []
   },
   "outputs": [
    {
     "name": "stdout",
     "output_type": "stream",
     "text": [
      "   sqlite:///FianlDB.db\n",
      " * sqlite:///FinalDB.db\n",
      "Done.\n"
     ]
    },
    {
     "data": {
      "text/html": [
       "<table>\n",
       "    <thead>\n",
       "        <tr>\n",
       "            <th>COMMUNITY_AREA_NAME</th>\n",
       "        </tr>\n",
       "    </thead>\n",
       "    <tbody>\n",
       "        <tr>\n",
       "            <td>Austin</td>\n",
       "        </tr>\n",
       "    </tbody>\n",
       "</table>"
      ],
      "text/plain": [
       "[('Austin',)]"
      ]
     },
     "execution_count": 55,
     "metadata": {},
     "output_type": "execute_result"
    }
   ],
   "source": [
    "%%sql select COMMUNITY_AREA_NAME from chicago_census_data\n",
    "where COMMUNITY_AREA_NUMBER in \n",
    "(select COMMUNITY_AREA_NUMBER from chicago_crime_data\n",
    "group by COMMUNITY_AREA_NUMBER\n",
    "order by COUNT(COMMUNITY_AREA_NUMBER) DESC NULLS LAST LIMIT 1)"
   ]
  },
  {
   "cell_type": "markdown",
   "metadata": {},
   "source": [
    "## Author(s)\n",
    "\n",
    "<h4> Hima Vasudevan </h4>\n",
    "<h4> Rav Ahuja </h4>\n",
    "<h4> Ramesh Sannreddy </h4>\n",
    "\n",
    "## Contribtuor(s)\n",
    "\n",
    "<h4> Malika Singla </h4>\n",
    "<h4>Abhishek Gagneja</h4>\n",
    "\n",
    "## Change log\n",
    "\n",
    "| Date       | Version | Changed by        | Change Description                             |\n",
    "| ---------- | ------- | ----------------- | ---------------------------------------------- |\n",
    "|2023-10-18  | 2.6     | Abhishek Gagneja  | Modified instruction set |\n",
    "| 2022-03-04 | 2.5     | Lakshmi Holla     | Changed markdown.                   |\n",
    "| 2021-05-19 | 2.4     | Lakshmi Holla     | Updated the question                           |\n",
    "| 2021-04-30 | 2.3     | Malika Singla     | Updated the libraries                          |\n",
    "| 2021-01-15 | 2.2     | Rav Ahuja         | Removed problem 11 and fixed changelog         |\n",
    "| 2020-11-25 | 2.1     | Ramesh Sannareddy | Updated the problem statements, and datasets   |\n",
    "| 2020-09-05 | 2.0     | Malika Singla     | Moved lab to course repo in GitLab             |\n",
    "| 2018-07-18 | 1.0     | Rav Ahuja         | Several updates including loading instructions |\n",
    "| 2018-05-04 | 0.1     | Hima Vasudevan    | Created initial version                        |\n",
    "\n",
    "## <h3 align=\"center\"> © IBM Corporation 2023. All rights reserved. <h3/>\n"
   ]
  }
 ],
 "metadata": {
  "kernelspec": {
   "display_name": "Python",
   "language": "python",
   "name": "conda-env-python-py"
  },
  "language_info": {
   "codemirror_mode": {
    "name": "ipython",
    "version": 3
   },
   "file_extension": ".py",
   "mimetype": "text/x-python",
   "name": "python",
   "nbconvert_exporter": "python",
   "pygments_lexer": "ipython3",
   "version": "3.7.12"
  }
 },
 "nbformat": 4,
 "nbformat_minor": 4
}
